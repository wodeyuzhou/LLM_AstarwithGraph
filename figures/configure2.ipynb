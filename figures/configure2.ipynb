{
 "cells": [
  {
   "cell_type": "code",
   "execution_count": null,
   "id": "333d2b60",
   "metadata": {},
   "outputs": [],
   "source": [
    "import os\n",
    "import re\n",
    "import json\n",
    "import numpy as np\n",
    "import heapq\n",
    "from matplotlib import colors\n",
    "import matplotlib.pyplot as plt\n",
    "import torch\n",
    "import networkx as nx\n",
    "from networkx.readwrite import json_graph\n",
    "from graph_to_prompt import graph_to_prompt\n",
    "from transformers import AutoModelForCausalLM, AutoTokenizer\n",
    "from tqdm.auto import tqdm"
   ]
  },
  {
   "cell_type": "code",
   "execution_count": null,
   "id": "5b1244c3",
   "metadata": {},
   "outputs": [],
   "source": [
    "# figure 2 \n",
    "start = stations[1588]            \n",
    "goal = stations[1780]\n",
    "\n",
    "heuristic_table = {station: (((G.nodes[goal]['x'] - G.nodes[station]['x']) ** 2 + (G.nodes[goal]['y'] - G.nodes[station]['y']) ** 2) ** 0.5) for station in nodes}\n",
    "\n",
    "path, cost, count, checking_edges = astar(G, start, goal, heuristic_table)\n",
    "print(\"Count       :\", count)\n",
    "print(\"Cost        :\", cost)\n",
    "print(\"# of Checking edges:\", len(checking_edges))\n",
    "print(\"Path        :\", path)"
   ]
  }
 ],
 "metadata": {
  "language_info": {
   "name": "python"
  }
 },
 "nbformat": 4,
 "nbformat_minor": 5
}
