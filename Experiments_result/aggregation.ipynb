{
 "cells": [
  {
   "cell_type": "code",
   "execution_count": 2,
   "id": "e033d65f",
   "metadata": {},
   "outputs": [],
   "source": [
    "import json"
   ]
  },
  {
   "cell_type": "code",
   "execution_count": 3,
   "id": "711c9913",
   "metadata": {},
   "outputs": [],
   "source": [
    "with open(\"LLM_A_star_fewshot.json\", \"r\") as jf:\n",
    "    LLM_A_star_fewshot = json.load(jf)\n",
    "\n",
    "with open(\"A_star.json\", \"r\") as jf:\n",
    "    A_star = json.load(jf)"
   ]
  },
  {
   "cell_type": "code",
   "execution_count": 32,
   "id": "424e03fb",
   "metadata": {},
   "outputs": [],
   "source": [
    "count_ratio = 0\n",
    "cost_ratio = 0\n",
    "checking_edges_ratio = 0\n",
    "num_samples = len(A_star)\n",
    "for i in range(num_samples):\n",
    "    count_ratio = LLM_A_star_fewshot[i]['count']/A_star[i]['count']\n",
    "    cost_ratio = LLM_A_star_fewshot[i]['cost']/A_star[i]['cost']\n",
    "    checking_edges_ratio = LLM_A_star_fewshot[i]['checking_edges']/A_star[i]['checking_edges']"
   ]
  },
  {
   "cell_type": "code",
   "execution_count": 44,
   "id": "2081a1ad",
   "metadata": {},
   "outputs": [
    {
     "name": "stdout",
     "output_type": "stream",
     "text": [
      "[6800278, 6800279, 6800280, 6800281, 6800282, 6800283, 6800284, 6800285, 6800286, 6800287, 6800288, 6800289, 6800290, 6800291, 6800292, 6800293, 6800294, 6800295, 6800296, 6800297, 6800298, 6800299, 6800300, 6800301, 6800302, 6800303, 6800304, 6800305, 6800306, 6800307, 6800308, 6800309, 6800310, 6800311, 6800312, 6800313, 6800314, 6800315, 6800316, 6800317]\n",
      "[6800278, 6800317, 6800316, 6800315, 6800314, 6800313, 6800312, 6800311, 6800310, 6800309, 6800308, 6800307, 6800306, 6800305, 6800304, 6800303, 6800302, 6800301, 6800300, 6800299, 6800298, 6800297, 6800296, 6800295, 6800294, 6800293, 6800292, 6800291, 6800290, 6800289, 6800288, 6800287, 6800286, 6800285, 6800284, 6800283, 6800282, 6800281, 6800280, 6800279, 6800278, 6801909]\n"
     ]
    }
   ],
   "source": [
    "idx = 6\n",
    "print(LLM_A_star_fewshot[idx]['waypoints_of_llm'])\n",
    "print(LLM_A_star_fewshot[idx]['waypoints_using_llm'])"
   ]
  },
  {
   "cell_type": "code",
   "execution_count": 31,
   "id": "a40840d6",
   "metadata": {},
   "outputs": [
    {
     "name": "stdout",
     "output_type": "stream",
     "text": [
      "Count ratio     :  0.3208\n",
      "Cost ratio      : 0.6623\n",
      "# of Checking edges ratio:  0.2173\n"
     ]
    }
   ],
   "source": [
    "count_ratio = count_ratio/num_samples * 100\n",
    "cost_ratio = cost_ratio/num_samples * 100\n",
    "checking_edges_ratio = checking_edges_ratio/num_samples * 100\n",
    "\n",
    "print(f\"Count ratio     : {count_ratio : .4f}\")\n",
    "print(f\"Cost ratio      :{cost_ratio : .4f}\")\n",
    "print(f\"# of Checking edges ratio: {checking_edges_ratio : .4f}\")"
   ]
  },
  {
   "cell_type": "code",
   "execution_count": null,
   "id": "c344f7ec",
   "metadata": {},
   "outputs": [],
   "source": []
  }
 ],
 "metadata": {
  "kernelspec": {
   "display_name": "LLM",
   "language": "python",
   "name": "python3"
  },
  "language_info": {
   "codemirror_mode": {
    "name": "ipython",
    "version": 3
   },
   "file_extension": ".py",
   "mimetype": "text/x-python",
   "name": "python",
   "nbconvert_exporter": "python",
   "pygments_lexer": "ipython3",
   "version": "3.13.2"
  }
 },
 "nbformat": 4,
 "nbformat_minor": 5
}
