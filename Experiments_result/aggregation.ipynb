{
 "cells": [
  {
   "cell_type": "code",
   "execution_count": 23,
   "id": "e033d65f",
   "metadata": {},
   "outputs": [],
   "source": [
    "import json\n",
    "import numpy as np"
   ]
  },
  {
   "cell_type": "code",
   "execution_count": 8,
   "id": "711c9913",
   "metadata": {},
   "outputs": [],
   "source": [
    "with open(\"LLM_A_star_fewshot.json\", \"r\") as jf:\n",
    "    LLM_A_star_fewshot = json.load(jf)\n",
    "\n",
    "with open(\"A_star.json\", \"r\") as jf:\n",
    "    A_star = json.load(jf)"
   ]
  },
  {
   "cell_type": "code",
   "execution_count": 18,
   "id": "b9c01464",
   "metadata": {},
   "outputs": [
    {
     "data": {
      "text/plain": [
       "5.560165975103734"
      ]
     },
     "execution_count": 18,
     "metadata": {},
     "output_type": "execute_result"
    }
   ],
   "source": [
    "LLM_A_star_fewshot[i]['count']/A_star[i]['count'] * 100"
   ]
  },
  {
   "cell_type": "code",
   "execution_count": null,
   "id": "424e03fb",
   "metadata": {},
   "outputs": [
    {
     "data": {
      "text/plain": [
       "([85636, 7390, 61995174, 83610], [240555, 7390, 90862136, 118219])"
      ]
     },
     "execution_count": 34,
     "metadata": {},
     "output_type": "execute_result"
    }
   ],
   "source": [
    "A_star_count_ratio = 0\n",
    "A_star_cost_ratio = 0\n",
    "A_star_storage_ratio = 0\n",
    "A_star_checking_edges_ratio = 0\n",
    "\n",
    "LLM_A_star_fewshot_count_ratio = 0\n",
    "LLM_A_star_fewshot_cost_ratio = 0\n",
    "LLM_A_star_fewshot_storage_ratio = 0\n",
    "LLM_A_star_fewshot_checking_edges_ratio = 0\n",
    "\n",
    "count_ratio = 0\n",
    "cost_ratio = 0\n",
    "storage_ratio = 0\n",
    "checking_edges_ratio = 0\n",
    "\n",
    "num_samples = len(A_star)\n",
    "\n",
    "col_list = ['count','cost','storage','checking_edges']\n",
    "\n",
    "A_star_table = [0, 0, 0, 0]\n",
    "LLM_A_star_fewshot_table = [0, 0, 0, 0]\n",
    "\n",
    "for i in range(num_samples):\n",
    "    for d , j in enumerate(col_list):\n",
    "        A_star_table[d] += A_star[i][j]\n",
    "\n",
    "for i in range(num_samples):\n",
    "    for d , j in enumerate(col_list):\n",
    "        LLM_A_star_fewshot_table[d] += LLM_A_star_fewshot[i][j]\n"
   ]
  },
  {
   "cell_type": "code",
   "execution_count": null,
   "id": "8a1c9048",
   "metadata": {},
   "outputs": [
    {
     "ename": "TypeError",
     "evalue": "unsupported operand type(s) for /: 'list' and 'int'",
     "output_type": "error",
     "traceback": [
      "\u001b[31m---------------------------------------------------------------------------\u001b[39m",
      "\u001b[31mTypeError\u001b[39m                                 Traceback (most recent call last)",
      "\u001b[36mCell\u001b[39m\u001b[36m \u001b[39m\u001b[32mIn[29]\u001b[39m\u001b[32m, line 1\u001b[39m\n\u001b[32m----> \u001b[39m\u001b[32m1\u001b[39m \u001b[43mA_star_table\u001b[49m\u001b[43m/\u001b[49m\u001b[43mnum_samples\u001b[49m\n",
      "\u001b[31mTypeError\u001b[39m: unsupported operand type(s) for /: 'list' and 'int'"
     ]
    }
   ],
   "source": [
    "\n",
    "A_star_table/num_samples"
   ]
  },
  {
   "cell_type": "code",
   "execution_count": null,
   "id": "00137fb2",
   "metadata": {},
   "outputs": [],
   "source": []
  },
  {
   "cell_type": "code",
   "execution_count": 21,
   "id": "74dbc7ff",
   "metadata": {},
   "outputs": [],
   "source": [
    "A_star_count_ratio = A_star_count_ratio/num_samples\n",
    "A_star_cost_ratio = A_star_cost_ratio/num_samples\n",
    "A_star_storage_ratio = A_star_storage_ratio/num_samples\n",
    "A_star_checking_edges_ratio = A_star_checking_edges_ratio/num_samples\n",
    "\n",
    "LLM_A_star_fewshot_count_ratio = LLM_A_star_fewshot_count_ratio/num_samples\n",
    "LLM_A_star_fewshot_cost_ratio = LLM_A_star_fewshot_cost_ratio/num_samples\n",
    "LLM_A_star_fewshot_storage_ratio = LLM_A_star_fewshot_storage_ratio/num_samples\n",
    "LLM_A_star_fewshot_checking_edges_ratio = LLM_A_star_fewshot_checking_edges_ratio/num_samples"
   ]
  },
  {
   "cell_type": "code",
   "execution_count": 44,
   "id": "2081a1ad",
   "metadata": {},
   "outputs": [
    {
     "name": "stdout",
     "output_type": "stream",
     "text": [
      "[6800278, 6800279, 6800280, 6800281, 6800282, 6800283, 6800284, 6800285, 6800286, 6800287, 6800288, 6800289, 6800290, 6800291, 6800292, 6800293, 6800294, 6800295, 6800296, 6800297, 6800298, 6800299, 6800300, 6800301, 6800302, 6800303, 6800304, 6800305, 6800306, 6800307, 6800308, 6800309, 6800310, 6800311, 6800312, 6800313, 6800314, 6800315, 6800316, 6800317]\n",
      "[6800278, 6800317, 6800316, 6800315, 6800314, 6800313, 6800312, 6800311, 6800310, 6800309, 6800308, 6800307, 6800306, 6800305, 6800304, 6800303, 6800302, 6800301, 6800300, 6800299, 6800298, 6800297, 6800296, 6800295, 6800294, 6800293, 6800292, 6800291, 6800290, 6800289, 6800288, 6800287, 6800286, 6800285, 6800284, 6800283, 6800282, 6800281, 6800280, 6800279, 6800278, 6801909]\n"
     ]
    }
   ],
   "source": [
    "idx = 6\n",
    "print(LLM_A_star_fewshot[idx]['waypoints_of_llm'])\n",
    "print(LLM_A_star_fewshot[idx]['waypoints_using_llm'])"
   ]
  },
  {
   "cell_type": "code",
   "execution_count": null,
   "id": "a40840d6",
   "metadata": {},
   "outputs": [
    {
     "name": "stdout",
     "output_type": "stream",
     "text": [
      "Count ratio     :  40.1656\n",
      "Cost ratio      : 100.0000\n",
      "Cost ratio      : 133.8243\n",
      "# of Checking edges ratio:  76.4327\n"
     ]
    }
   ],
   "source": [
    "count_ratio = count_ratio/num_samples\n",
    "cost_ratio = cost_ratio/num_samples\n",
    "\n",
    "checking_edges_ratio = checking_edges_ratio/num_samples * 100\n",
    "\n",
    "print(f\"Count ratio     : {count_ratio : .4f}\")\n",
    "print(f\"Cost ratio      :{cost_ratio : .4f}\")\n",
    "print(f\"Cost ratio      :{storage_ratio : .4f}\")\n",
    "print(f\"# of Checking edges ratio: {checking_edges_ratio : .4f}\")"
   ]
  },
  {
   "cell_type": "code",
   "execution_count": null,
   "id": "c344f7ec",
   "metadata": {},
   "outputs": [],
   "source": []
  }
 ],
 "metadata": {
  "kernelspec": {
   "display_name": "LLM",
   "language": "python",
   "name": "python3"
  },
  "language_info": {
   "codemirror_mode": {
    "name": "ipython",
    "version": 3
   },
   "file_extension": ".py",
   "mimetype": "text/x-python",
   "name": "python",
   "nbconvert_exporter": "python",
   "pygments_lexer": "ipython3",
   "version": "3.13.2"
  }
 },
 "nbformat": 4,
 "nbformat_minor": 5
}
