{
 "cells": [
  {
   "cell_type": "code",
   "execution_count": null,
   "id": "f39115db",
   "metadata": {},
   "outputs": [
    {
     "data": {
      "application/vnd.jupyter.widget-view+json": {
       "model_id": "9937e8de672e4902aaaa6cb58d234ffc",
       "version_major": 2,
       "version_minor": 0
      },
      "text/plain": [
       "Loading checkpoint shards:   0%|          | 0/2 [00:00<?, ?it/s]"
      ]
     },
     "metadata": {},
     "output_type": "display_data"
    }
   ],
   "source": [
    "from transformers import AutoTokenizer, AutoModelForCausalLM\n",
    "\n",
    "tokenizer = AutoTokenizer.from_pretrained(\"meta-llama/Llama-3.2-3B-Instruct\")\n",
    "model = AutoModelForCausalLM.from_pretrained(\n",
    "    \"meta-llama/Llama-3.2-3B-Instruct\",\n",
    "    torch_dtype=\"auto\",\n",
    "    device_map=\"auto\"\n",
    ")"
   ]
  },
  {
   "cell_type": "code",
   "execution_count": 14,
   "id": "09dee9ad",
   "metadata": {},
   "outputs": [
    {
     "name": "stdout",
     "output_type": "stream",
     "text": [
      "<|begin_of_text|><|start_header_id|>system<|end_header_id|>\n",
      "\n",
      "Cutting Knowledge Date: December 2023\n",
      "Today Date: 01 May 2025\n",
      "\n",
      "<|eot_id|><|start_header_id|>user<|end_header_id|>\n",
      "\n",
      "You are a robot that only outputs JSON.\n",
      "You reply in JSON format with the field 'zip_code'.\n",
      "Example question: What is the zip code of the Empire State Building? \n",
      "**Example answer: {'zip_code': 10118}**\n",
      "Now here is my question: What is the zip code of Menlo Park?<|eot_id|><|start_header_id|>assistant<|end_header_id|>\n",
      "\n",
      "\n"
     ]
    }
   ],
   "source": [
    "prompt = \"\"\"\\nYou are a robot that only outputs JSON.\n",
    "You reply in JSON format with the field 'zip_code'.\n",
    "Example question: What is the zip code of the Empire State Building? \n",
    "**Example answer: {'zip_code': 10118}**\n",
    "Now here is my question: What is the zip code of Menlo Park?\\n\"\"\"\n",
    "\n",
    "messages = [\n",
    "    {\"role\": \"user\", \"content\": prompt},\n",
    "]\n",
    "text = tokenizer.apply_chat_template(\n",
    "    messages,\n",
    "    tokenize=False,\n",
    "    add_generation_prompt=True,\n",
    "    enable_thinking=True\n",
    ")\n",
    "print(text)"
   ]
  },
  {
   "cell_type": "code",
   "execution_count": null,
   "id": "45380677",
   "metadata": {},
   "outputs": [
    {
     "name": "stderr",
     "output_type": "stream",
     "text": [
      "Setting `pad_token_id` to `eos_token_id`:128001 for open-end generation.\n"
     ]
    },
    {
     "name": "stdout",
     "output_type": "stream",
     "text": [
      "{\"zip_code\": 94025}\n"
     ]
    }
   ],
   "source": [
    "model_inputs = tokenizer([text], return_tensors=\"pt\").to(model.device)\n",
    "\n",
    "generated_ids = model.generate(\n",
    "    **model_inputs,\n",
    "    max_new_tokens=32768\n",
    ")\n",
    "output_ids = generated_ids[0][len(model_inputs.input_ids[0]):].tolist() \n",
    "\n",
    "content = tokenizer.decode(output_ids, skip_special_tokens=True).strip(\"\\n\")\n",
    "print(content)"
   ]
  },
  {
   "cell_type": "code",
   "execution_count": 46,
   "id": "4ddba163",
   "metadata": {},
   "outputs": [
    {
     "name": "stdout",
     "output_type": "stream",
     "text": [
      "system\n",
      "\n",
      "Cutting Knowledge Date: December 2023\n",
      "Today Date: 01 May 2025\n",
      "\n",
      "user\n",
      "\n",
      "Give me a short introduction to large language model.assistant\n",
      "\n",
      "**Introduction to Large Language Models**\n",
      "\n",
      "Large language models are a type of artificial intelligence (AI) designed to process and understand human language. They are a subset of deep learning models that use neural networks to analyze and generate text based on patterns and structures learned from vast amounts of data.\n",
      "\n",
      "**Key Characteristics:**\n",
      "\n",
      "1. **Scalability**: Large language models are trained on massive amounts of data, often in the order of millions of parameters, which enables them to capture complex patterns and nuances in language.\n",
      "2. **Contextual understanding**: These models can understand the context of a sentence or paragraph, allowing them to generate coherent and relevant responses.\n",
      "3. **Generative capabilities**: Large language models can generate text, such as articles, stories, or even entire books, based on a given prompt or topic.\n",
      "4. **Pre-trained on vast datasets**: These models are typically trained on large datasets, such as books, articles, or conversations, which provides them with a broad understanding of language.\n",
      "\n",
      "**Types of Large Language Models:**\n",
      "\n",
      "1. **Transformers**: This architecture is widely used in large language models, such as BERT, RoBERTa, and XLNet.\n",
      "2. **Recurrent Neural Networks (RNNs)**: RNNs are used in models like LSTM (Long Short-Term Memory) and GRU (Gated Recurrent Unit).\n",
      "3. **Attention-based models**: These models use attention mechanisms to focus on specific parts of the input text when generating output.\n",
      "\n",
      "**Applications:**\n",
      "\n",
      "1. **Natural Language Processing (NLP)**: Large language models are used for tasks such as language translation, sentiment analysis, and text summarization.\n",
      "2. **Chatbots and Virtual Assistants**: These models are used in chatbots and virtual assistants to understand and respond to user queries.\n",
      "3. **Content Generation**: Large language models can be used to generate content, such as articles, stories, or even entire books.\n",
      "4. **Language Translation**: These models can be used for machine translation, allowing humans to communicate across languages.\n",
      "\n",
      "**Limitations:**\n",
      "\n",
      "1. **Data bias**: Large language models can perpetuate biases present in the training data.\n",
      "2. **Lack of common sense**: These models may struggle with tasks that require common sense or real-world experience.\n",
      "3. **Explainability**: Large language models can be difficult to interpret and understand.\n",
      "\n",
      "Overall, large language models have revolutionized the field of NLP and have numerous applications in various industries. However, they also raise important questions about their limitations and potential biases.\n"
     ]
    }
   ],
   "source": [
    "print(tokenizer.decode(generated_ids[0], skip_special_tokens=True).strip(\"\\n\"))"
   ]
  }
 ],
 "metadata": {
  "kernelspec": {
   "display_name": "LLM",
   "language": "python",
   "name": "python3"
  },
  "language_info": {
   "codemirror_mode": {
    "name": "ipython",
    "version": 3
   },
   "file_extension": ".py",
   "mimetype": "text/x-python",
   "name": "python",
   "nbconvert_exporter": "python",
   "pygments_lexer": "ipython3",
   "version": "3.13.2"
  }
 },
 "nbformat": 4,
 "nbformat_minor": 5
}
