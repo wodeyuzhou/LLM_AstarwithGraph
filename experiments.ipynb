{
 "cells": [
  {
   "cell_type": "code",
   "execution_count": 1,
   "id": "9805fc8c",
   "metadata": {},
   "outputs": [],
   "source": [
    "import os\n",
    "import re\n",
    "import csv\n",
    "import pandas as pd\n",
    "import json\n",
    "import numpy as np\n",
    "import heapq\n",
    "from matplotlib import colors\n",
    "import matplotlib.pyplot as plt\n",
    "import torch\n",
    "import networkx as nx\n",
    "from networkx.readwrite import json_graph\n",
    "from graph_to_prompt import graph_to_prompt\n",
    "from transformers import AutoModelForCausalLM, AutoTokenizer\n",
    "from tqdm.auto import tqdm"
   ]
  },
  {
   "cell_type": "code",
   "execution_count": 2,
   "id": "f92a62b5",
   "metadata": {},
   "outputs": [],
   "source": [
    "def get_nums_list(s):\n",
    "    nums_str = re.findall(r'\\d+', s)  \n",
    "    nums = list(map(int, nums_str))\n",
    "    return  nums"
   ]
  },
  {
   "cell_type": "code",
   "execution_count": 3,
   "id": "7249a916",
   "metadata": {},
   "outputs": [],
   "source": [
    "class Request_llm:\n",
    "    def __init__(self, model_name):\n",
    "        if model_name == 'llama':\n",
    "            self.max_new_tokens = 200\n",
    "            self.tokenizer = AutoTokenizer.from_pretrained(\"meta-llama/Llama-3.2-3B-Instruct\")\n",
    "            self.model = AutoModelForCausalLM.from_pretrained(\"meta-llama/Llama-3.2-3B-Instruct\", device_map=\"auto\",load_in_8bit=True)\n",
    "            #self.model.save_model(\"models/meta-llama/Llama-3.2-3B-Instruct\")\n",
    "        \n",
    "\n",
    "        self.model.config.pad_token_id = self.model.config.eos_token_id\n",
    "\n",
    "    def get_waypoints(self, j, start, goal, n_points):\n",
    "        prompt = graph_to_prompt(j, start, goal, n_points)\n",
    "        inputs = self.tokenizer(\n",
    "                    prompt,\n",
    "                    return_tensors=\"pt\",\n",
    "                    return_attention_mask=True\n",
    "                )\n",
    "        \n",
    "        input_ids = inputs[\"input_ids\"]\n",
    "        inputs[\"input_ids\"] = inputs[\"input_ids\"].to(self.model.device)\n",
    "        inputs[\"attention_mask\"] = inputs[\"attention_mask\"].to(self.model.device)\n",
    "\n",
    "        outputs = self.model.generate(\n",
    "                **inputs,\n",
    "                max_new_tokens = self.max_new_tokens\n",
    "            )\n",
    "        generated_token = outputs[:, input_ids.shape[-1] :]\n",
    "        result = self.tokenizer.batch_decode(generated_token, skip_special_tokens=True)[0]\n",
    "        waypoints = get_nums_list(result)\n",
    "        return waypoints\n"
   ]
  },
  {
   "cell_type": "code",
   "execution_count": 4,
   "id": "37888e09",
   "metadata": {},
   "outputs": [],
   "source": [
    "def astar(G, start, goal, heuristic, obstacles = None):\n",
    "    count = 0\n",
    "    storage = 0\n",
    "    checking_edges = set()\n",
    "\n",
    "    if obstacles is None:\n",
    "        obstacles = set()\n",
    "    else:\n",
    "        obstacles = set(obstacles)\n",
    "\n",
    "    # g-score 와 f-score 초기화\n",
    "    g_score = {n: float('inf') for n in G.nodes}\n",
    "    g_score[start] = 0\n",
    "\n",
    "    f_score = {n: float('inf') for n in G.nodes}\n",
    "    f_score[start] = heuristic[start]\n",
    "\n",
    "    # 우선순위 큐: (f_score, g_score, node)\n",
    "    open_set = []\n",
    "    heapq.heappush(open_set, (f_score[start], 0, start))\n",
    "    visited = set()\n",
    "    came_from = {}\n",
    "\n",
    "    num_iter = 0\n",
    "\n",
    "    while open_set:\n",
    "        num_iter += 1\n",
    "        storage += len(open_set) + len(visited) + len(came_from)\n",
    "        f_cur, g_cur, current = heapq.heappop(open_set)\n",
    "\n",
    "        # 목표 도달\n",
    "        if current == goal:\n",
    "            # 경로 재구성\n",
    "            path = [current]\n",
    "            while current in came_from:\n",
    "                current = came_from[current]\n",
    "                path.append(current)\n",
    "            return path[::-1], g_cur, count, storage, list(checking_edges)\n",
    "        visited.add(current)\n",
    "        # 이웃 탐색\n",
    "        for nbr in G.neighbors(current):\n",
    "            count = count + 1\n",
    "            if nbr in visited or nbr in obstacles:\n",
    "                continue\n",
    "            \n",
    "            tentative_g = g_score[current] + G[current][nbr]['weight']\n",
    "            checking_edges.add((current, nbr))\n",
    "            if tentative_g < g_score[nbr]:\n",
    "                came_from[nbr] = current\n",
    "                g_score[nbr] = tentative_g\n",
    "                f_score[nbr] = tentative_g + heuristic[nbr]\n",
    "                heapq.heappush(open_set, (f_score[nbr], tentative_g, nbr))\n",
    "\n",
    "    # 경로가 없을 때\n",
    "    return None, None, count, storage, list(checking_edges)"
   ]
  },
  {
   "cell_type": "code",
   "execution_count": 5,
   "id": "bc18a2ae",
   "metadata": {},
   "outputs": [],
   "source": [
    "def llm_astar(G, start, goal, heuristic, llm, obstacles=None):\n",
    "    nodes = list(G.nodes)\n",
    "    llm = list(set(llm))\n",
    "    T = []\n",
    "    for ts in llm:\n",
    "        if ts in nodes:\n",
    "            T.append(ts)\n",
    "    if obstacles is None:\n",
    "        obstacles = set()\n",
    "    else:\n",
    "        obstacles = set(obstacles)\n",
    "    print(llm)\n",
    "    # T.reverse()\n",
    "    if not T or T[0] != start:\n",
    "        T.insert(0, start)\n",
    "    if T[-1] != goal:\n",
    "        T.append(goal)\n",
    "    T = [t for t in T if t not in obstacles]\n",
    "    t_idx = 1 if len(T) > 1 else 0\n",
    "    t = T[t_idx]\n",
    "    dist_to_t = nx.single_source_dijkstra_path_length(G, t, weight='weight')\n",
    "    count = 0\n",
    "    storage = 0\n",
    "    checking_edges = set()\n",
    "    came_from = {}\n",
    "    visited = set()\n",
    "\n",
    "    g_score = {n: float('inf') for n in G.nodes}\n",
    "    g_score[start] = 0\n",
    "\n",
    "    f_score = {n: float('inf') for n in G.nodes}\n",
    "    f_score[start] = g_score[start] + heuristic[start] + dist_to_t.get(start, float('inf'))\n",
    "\n",
    "    open_set = []\n",
    "    heapq.heappush(open_set, (f_score[start], g_score[start], start))\n",
    "\n",
    "    while open_set:\n",
    "        storage += len(open_set) + len(visited) + len(came_from)\n",
    "        f_cur, g_cur, current = heapq.heappop(open_set)\n",
    "        if current == goal:\n",
    "            path = [current]\n",
    "            while current in came_from:\n",
    "                current = came_from[current]\n",
    "                path.append(current)\n",
    "            return path[::-1], g_cur, count, storage, list(checking_edges), T\n",
    "        visited.add(current)\n",
    "        if current == t and t_idx < len(T) - 1:\n",
    "            t_idx += 1\n",
    "            t = T[t_idx]\n",
    "            dist_to_t = nx.single_source_dijkstra_path_length(G, t, weight='weight')\n",
    "\n",
    "            new_open = []\n",
    "            for _, g_old, node in open_set:\n",
    "                new_f = g_score[node] + heuristic[node] + dist_to_t.get(node, float('inf'))\n",
    "                new_open.append((new_f, g_old, node))\n",
    "            open_set = new_open\n",
    "            heapq.heapify(open_set)\n",
    "\n",
    "\n",
    "        for nbr in G.successors(current):\n",
    "            if nbr in visited or nbr in obstacles:\n",
    "                continue\n",
    "            count += 1\n",
    "            w = G[current][nbr].get('weight', 1)\n",
    "            tentative_g = g_score[current] + w\n",
    "            checking_edges.add((current, nbr))\n",
    "\n",
    "            if tentative_g < g_score[nbr]:\n",
    "                came_from[nbr] = current\n",
    "                g_score[nbr] = tentative_g\n",
    "                f = tentative_g + heuristic[nbr] + dist_to_t.get(nbr, float('inf'))\n",
    "                f_score[nbr] = f\n",
    "                heapq.heappush(open_set, (f, tentative_g, nbr))\n",
    "\n",
    "\n",
    "    return None, None, count, storage, list(checking_edges), T\n"
   ]
  },
  {
   "cell_type": "code",
   "execution_count": 6,
   "id": "8cfb0fe1",
   "metadata": {},
   "outputs": [
    {
     "name": "stderr",
     "output_type": "stream",
     "text": [
      "/opt/conda/envs/LLM/lib/python3.13/site-packages/networkx/readwrite/json_graph/node_link.py:287: FutureWarning: \n",
      "The default value will be changed to `edges=\"edges\" in NetworkX 3.6.\n",
      "\n",
      "To make this warning go away, explicitly set the edges kwarg, e.g.:\n",
      "\n",
      "  nx.node_link_graph(data, edges=\"links\") to preserve current behavior, or\n",
      "  nx.node_link_graph(data, edges=\"edges\") for forward compatibility.\n",
      "  warnings.warn(\n"
     ]
    }
   ],
   "source": [
    "with open(\"graphs/sejong_bus.json\", \"r\") as json_file:\n",
    "    j = json.load(json_file)\n",
    "\n",
    "G = json_graph.node_link_graph(j)\n",
    "nodes = G.nodes\n",
    "edges = G.edges\n",
    "stations = list(G.nodes())"
   ]
  },
  {
   "cell_type": "code",
   "execution_count": 12,
   "id": "ab31a979",
   "metadata": {},
   "outputs": [],
   "source": [
    "# table(random) A*\n",
    "experiments_samples_A_star = []\n",
    "\n",
    "while True:\n",
    "    start, goal = np.random.choice(nodes, 2)\n",
    "    start, goal = start.item(), goal.item()\n",
    "\n",
    "    heuristic_table = {station: (((G.nodes[goal]['x'] - G.nodes[station]['x']) ** 2 + (G.nodes[goal]['y'] - G.nodes[station]['y']) ** 2) ** 0.5) for station in nodes}\n",
    "\n",
    "    path, cost, count, storage, checking_edges = astar(G, start, goal, heuristic_table)\n",
    "    if path is not None:\n",
    "        experiments_samples_A_star.append({'point' : (start, goal), 'path':path, 'cost':cost, 'storage':storage, 'count':count, 'checking_edges' : len(checking_edges)})\n",
    "    if len(experiments_samples_A_star)>150:\n",
    "        break"
   ]
  },
  {
   "cell_type": "code",
   "execution_count": 8,
   "id": "fae59ca3",
   "metadata": {},
   "outputs": [
    {
     "name": "stderr",
     "output_type": "stream",
     "text": [
      "The `load_in_4bit` and `load_in_8bit` arguments are deprecated and will be removed in the future versions. Please, pass a `BitsAndBytesConfig` object in `quantization_config` argument instead.\n"
     ]
    },
    {
     "data": {
      "application/vnd.jupyter.widget-view+json": {
       "model_id": "6ed68ee101724aff9fded4802c1aeb5e",
       "version_major": 2,
       "version_minor": 0
      },
      "text/plain": [
       "Loading checkpoint shards:   0%|          | 0/2 [00:00<?, ?it/s]"
      ]
     },
     "metadata": {},
     "output_type": "display_data"
    }
   ],
   "source": [
    "llm_model = Request_llm('llama')"
   ]
  },
  {
   "cell_type": "code",
   "execution_count": 9,
   "id": "0d27ad58",
   "metadata": {},
   "outputs": [
    {
     "data": {
      "application/vnd.jupyter.widget-view+json": {
       "model_id": "efb995fb798d4571843af16ce032e69f",
       "version_major": 2,
       "version_minor": 0
      },
      "text/plain": [
       "  0%|          | 0/10 [00:00<?, ?it/s]"
      ]
     },
     "metadata": {},
     "output_type": "display_data"
    },
    {
     "name": "stderr",
     "output_type": "stream",
     "text": [
      "/opt/conda/envs/LLM/lib/python3.13/site-packages/networkx/readwrite/json_graph/node_link.py:287: FutureWarning: \n",
      "The default value will be changed to `edges=\"edges\" in NetworkX 3.6.\n",
      "\n",
      "To make this warning go away, explicitly set the edges kwarg, e.g.:\n",
      "\n",
      "  nx.node_link_graph(data, edges=\"links\") to preserve current behavior, or\n",
      "  nx.node_link_graph(data, edges=\"edges\") for forward compatibility.\n",
      "  warnings.warn(\n",
      "Setting `pad_token_id` to `eos_token_id`:128001 for open-end generation.\n",
      "Setting `pad_token_id` to `eos_token_id`:128001 for open-end generation.\n"
     ]
    },
    {
     "name": "stdout",
     "output_type": "stream",
     "text": [
      "[6806309, 6806344, 6806345, 6806346, 6806347, 6806330, 6806331]\n",
      "Sample  0\n",
      "Count ratio       : 0.9147727272727273\n",
      "Storage ratio     0.9830363429140458\n",
      "Cost ratio        : 0.0\n",
      "# of Checking edges ratio: 0.8265895953757225\n"
     ]
    },
    {
     "name": "stderr",
     "output_type": "stream",
     "text": [
      "Setting `pad_token_id` to `eos_token_id`:128001 for open-end generation.\n"
     ]
    },
    {
     "name": "stdout",
     "output_type": "stream",
     "text": [
      "[6801908, 6801910, 6801912, 6801914, 6801915, 6801916, 6801917]\n",
      "Sample  1\n",
      "Count ratio       : 0.9430479183032208\n",
      "Storage ratio     0.9898253670100564\n",
      "Cost ratio        : 0.0\n",
      "# of Checking edges ratio: 0.8822095857026807\n"
     ]
    },
    {
     "name": "stderr",
     "output_type": "stream",
     "text": [
      "Setting `pad_token_id` to `eos_token_id`:128001 for open-end generation.\n"
     ]
    },
    {
     "name": "stdout",
     "output_type": "stream",
     "text": [
      "[6800772, 6800932, 6800905, 6800974, 6800689, 6800660, 6800757]\n",
      "Sample  2\n",
      "Count ratio       : 0.4806165343297525\n",
      "Storage ratio     -0.12966313986360745\n",
      "Cost ratio        : 0.0\n",
      "# of Checking edges ratio: -0.028708133971291794\n"
     ]
    },
    {
     "name": "stderr",
     "output_type": "stream",
     "text": [
      "Setting `pad_token_id` to `eos_token_id`:128001 for open-end generation.\n"
     ]
    },
    {
     "name": "stdout",
     "output_type": "stream",
     "text": [
      "[6800417, 6800519, 6800562, 6800661, 6800631, 6800601, 6800695]\n",
      "Sample  3\n",
      "Count ratio       : 0.47198879551820727\n",
      "Storage ratio     -0.012212595959500083\n",
      "Cost ratio        : 0.0\n",
      "# of Checking edges ratio: -0.005420054200542035\n"
     ]
    },
    {
     "name": "stderr",
     "output_type": "stream",
     "text": [
      "Setting `pad_token_id` to `eos_token_id`:128001 for open-end generation.\n"
     ]
    },
    {
     "name": "stdout",
     "output_type": "stream",
     "text": [
      "[6801096, 6800905, 6800714, 6801042, 6800563, 6800947, 6800758, 6800991]\n",
      "Sample  4\n",
      "Count ratio       : 0.4498037016264722\n",
      "Storage ratio     -0.2709023412547793\n",
      "Cost ratio        : 0.0\n",
      "# of Checking edges ratio: -0.06538895152198432\n"
     ]
    },
    {
     "name": "stderr",
     "output_type": "stream",
     "text": [
      "Setting `pad_token_id` to `eos_token_id`:128001 for open-end generation.\n"
     ]
    },
    {
     "name": "stdout",
     "output_type": "stream",
     "text": [
      "[6800076, 6800077, 6800078, 6800079, 6800080, 6800081, 6800082, 6800083, 6800084, 6800085, 6800086, 6800087, 6800088, 6800089, 6800090, 6800091, 6800092, 6800093, 6800094, 6800095, 6800096, 6800097, 6800098, 6800099, 6800100, 6800101, 6800102, 6800103, 6800104, 6800105, 6800106, 6800107, 6800108, 6800109, 6800110, 6800111, 6800112, 6800113, 6800114, 6800115]\n",
      "Sample  5\n",
      "Count ratio       : 0.45029239766081874\n",
      "Storage ratio     -0.12614149523331664\n",
      "Cost ratio        : 0.0\n",
      "# of Checking edges ratio: -0.03370786516853941\n"
     ]
    },
    {
     "name": "stderr",
     "output_type": "stream",
     "text": [
      "Setting `pad_token_id` to `eos_token_id`:128001 for open-end generation.\n"
     ]
    },
    {
     "name": "stdout",
     "output_type": "stream",
     "text": [
      "[6805511, 6805512, 6805513, 6805514, 6805515, 6805516, 6805517]\n",
      "Sample  6\n",
      "Count ratio       : 0.5052882975093824\n",
      "Storage ratio     -0.017327358726715092\n",
      "Cost ratio        : 0.0\n",
      "# of Checking edges ratio: 0.0\n"
     ]
    },
    {
     "name": "stderr",
     "output_type": "stream",
     "text": [
      "Setting `pad_token_id` to `eos_token_id`:128001 for open-end generation.\n"
     ]
    },
    {
     "name": "stdout",
     "output_type": "stream",
     "text": [
      "[6800001, 6800002, 6800003, 6800004, 6800005, 6800006, 6800632]\n",
      "Sample  7\n",
      "Count ratio       : 0.6814044213263979\n",
      "Storage ratio     0.6507642835117395\n",
      "Cost ratio        : 0.0\n",
      "# of Checking edges ratio: 0.3893333333333333\n"
     ]
    },
    {
     "name": "stderr",
     "output_type": "stream",
     "text": [
      "Setting `pad_token_id` to `eos_token_id`:128001 for open-end generation.\n"
     ]
    },
    {
     "name": "stdout",
     "output_type": "stream",
     "text": [
      "[6800833, 6800836, 6800839, 6800842, 6800816, 6800820, 6800823, 6800826, 6800830]\n",
      "Sample  8\n",
      "Count ratio       : 0.5035552682611506\n",
      "Storage ratio     -0.014111983974526732\n",
      "Cost ratio        : 0.0\n",
      "# of Checking edges ratio: -0.002670226969292422\n",
      "[6801172, 6801173, 6801174, 6801175, 6801176, 6801177, 6801178]\n",
      "Sample  9\n",
      "Count ratio       : 0.48500254194204373\n",
      "Storage ratio     -0.04715323563149876\n",
      "Cost ratio        : 0.0\n",
      "# of Checking edges ratio: -0.01747173689619741\n"
     ]
    }
   ],
   "source": [
    "# table(random) LLM-A*\n",
    "num_request = 7\n",
    "\n",
    "experiments_samples_LLM_A_star = []\n",
    "\n",
    "for i, sample in (enumerate(tqdm(experiments_samples_A_star[:10]))):\n",
    "    start, goal = sample['point']\n",
    "\n",
    "    heuristic_table = {station: (((G.nodes[goal]['x'] - G.nodes[station]['x']) ** 2 + (G.nodes[goal]['y'] - G.nodes[station]['y']) ** 2) ** 0.5) for station in nodes}\n",
    "\n",
    "    waypoints = llm_model.get_waypoints(j, start, goal, num_request)\n",
    "    \n",
    "    path, cost, count, storage, checking_edges, waypoints_using_llm = llm_astar(G, start, goal, heuristic_table, waypoints)\n",
    "    if path is not None:\n",
    "        experiments_samples_LLM_A_star.append(\n",
    "            {'point' : (start, goal), \n",
    "             'path':path, \n",
    "             'cost':cost, \n",
    "             'count':count, \n",
    "             'storage':storage,\n",
    "             'checking_edges' : len(checking_edges),\n",
    "             'waypoints_of_llm' : waypoints,\n",
    "             'waypoints_using_llm' : waypoints_using_llm,\n",
    "             'success' : (len(waypoints) <= num_request + 1)\n",
    "             })\n",
    "        cost_ratio = 1 - cost/sample['cost']\n",
    "        count_ratio = 1 - count/sample['count']\n",
    "        storage_ratio = 1 - storage/sample['storage']\n",
    "        checking_edges_ratio = 1 - len(checking_edges)/sample['checking_edges']\n",
    "        print(\"Sample \", i)\n",
    "        print(\"Count ratio       :\", count_ratio)\n",
    "        print(\"Storage ratio    \",  storage_ratio)\n",
    "        print(\"Cost ratio        :\", cost_ratio)\n",
    "        print(\"# of Checking edges ratio:\", checking_edges_ratio)"
   ]
  },
  {
   "cell_type": "code",
   "execution_count": 13,
   "id": "4a8ccda5",
   "metadata": {},
   "outputs": [
    {
     "ename": "ValueError",
     "evalue": "dict contains fields not in fieldnames: 'storage'",
     "output_type": "error",
     "traceback": [
      "\u001b[31m---------------------------------------------------------------------------\u001b[39m",
      "\u001b[31mValueError\u001b[39m                                Traceback (most recent call last)",
      "\u001b[36mCell\u001b[39m\u001b[36m \u001b[39m\u001b[32mIn[13]\u001b[39m\u001b[32m, line 8\u001b[39m\n\u001b[32m      6\u001b[39m writer = csv.DictWriter(csvfile, fieldnames=fields)\n\u001b[32m      7\u001b[39m writer.writeheader()\n\u001b[32m----> \u001b[39m\u001b[32m8\u001b[39m \u001b[43mwriter\u001b[49m\u001b[43m.\u001b[49m\u001b[43mwriterows\u001b[49m\u001b[43m(\u001b[49m\u001b[43mdata\u001b[49m\u001b[43m)\u001b[49m\n",
      "\u001b[36mFile \u001b[39m\u001b[32m/opt/conda/envs/LLM/lib/python3.13/csv.py:229\u001b[39m, in \u001b[36mDictWriter.writerows\u001b[39m\u001b[34m(self, rowdicts)\u001b[39m\n\u001b[32m    228\u001b[39m \u001b[38;5;28;01mdef\u001b[39;00m\u001b[38;5;250m \u001b[39m\u001b[34mwriterows\u001b[39m(\u001b[38;5;28mself\u001b[39m, rowdicts):\n\u001b[32m--> \u001b[39m\u001b[32m229\u001b[39m     \u001b[38;5;28;01mreturn\u001b[39;00m \u001b[38;5;28;43mself\u001b[39;49m\u001b[43m.\u001b[49m\u001b[43mwriter\u001b[49m\u001b[43m.\u001b[49m\u001b[43mwriterows\u001b[49m\u001b[43m(\u001b[49m\u001b[38;5;28;43mmap\u001b[39;49m\u001b[43m(\u001b[49m\u001b[38;5;28;43mself\u001b[39;49m\u001b[43m.\u001b[49m\u001b[43m_dict_to_list\u001b[49m\u001b[43m,\u001b[49m\u001b[43m \u001b[49m\u001b[43mrowdicts\u001b[49m\u001b[43m)\u001b[49m\u001b[43m)\u001b[49m\n",
      "\u001b[36mFile \u001b[39m\u001b[32m/opt/conda/envs/LLM/lib/python3.13/csv.py:221\u001b[39m, in \u001b[36mDictWriter._dict_to_list\u001b[39m\u001b[34m(self, rowdict)\u001b[39m\n\u001b[32m    219\u001b[39m     wrong_fields = rowdict.keys() - \u001b[38;5;28mself\u001b[39m.fieldnames\n\u001b[32m    220\u001b[39m     \u001b[38;5;28;01mif\u001b[39;00m wrong_fields:\n\u001b[32m--> \u001b[39m\u001b[32m221\u001b[39m         \u001b[38;5;28;01mraise\u001b[39;00m \u001b[38;5;167;01mValueError\u001b[39;00m(\u001b[33m\"\u001b[39m\u001b[33mdict contains fields not in fieldnames: \u001b[39m\u001b[33m\"\u001b[39m\n\u001b[32m    222\u001b[39m                          + \u001b[33m\"\u001b[39m\u001b[33m, \u001b[39m\u001b[33m\"\u001b[39m.join([\u001b[38;5;28mrepr\u001b[39m(x) \u001b[38;5;28;01mfor\u001b[39;00m x \u001b[38;5;129;01min\u001b[39;00m wrong_fields]))\n\u001b[32m    223\u001b[39m \u001b[38;5;28;01mreturn\u001b[39;00m (rowdict.get(key, \u001b[38;5;28mself\u001b[39m.restval) \u001b[38;5;28;01mfor\u001b[39;00m key \u001b[38;5;129;01min\u001b[39;00m \u001b[38;5;28mself\u001b[39m.fieldnames)\n",
      "\u001b[31mValueError\u001b[39m: dict contains fields not in fieldnames: 'storage'"
     ]
    }
   ],
   "source": [
    "data = experiments_samples_LLM_A_star\n",
    "\n",
    "fields = ['point', 'path', 'cost', 'count', 'checking_edges', 'waypoints_of_llm', 'waypoints_using_llm', 'success']\n",
    "\n",
    "with open('Experiments_result/LLM_A_star_fewshot.csv', 'w', newline='') as csvfile:\n",
    "    writer = csv.DictWriter(csvfile, fieldnames=fields)\n",
    "    writer.writeheader()\n",
    "    writer.writerows(data)"
   ]
  },
  {
   "cell_type": "code",
   "execution_count": null,
   "id": "b7fc1f7b",
   "metadata": {},
   "outputs": [
    {
     "data": {
      "text/plain": [
       "point                                                 (6800376, 6800463)\n",
       "path                   [6800376, 6800375, 6800374, 6800373, 6800372, ...\n",
       "cost                                                                  34\n",
       "count                                                               1159\n",
       "checking_edges                                                      1108\n",
       "waypoints_of_llm                                                     NaN\n",
       "waypoints_using_llm                                                  NaN\n",
       "Name: 0, dtype: object"
      ]
     },
     "execution_count": 31,
     "metadata": {},
     "output_type": "execute_result"
    }
   ],
   "source": [
    "data = pd.read_csv('Experiments_result/A_star.csv')\n",
    "data.loc[0]."
   ]
  },
  {
   "cell_type": "code",
   "execution_count": null,
   "id": "b971c060",
   "metadata": {},
   "outputs": [],
   "source": [
    "data = []"
   ]
  },
  {
   "cell_type": "code",
   "execution_count": 44,
   "id": "6bf7d78a",
   "metadata": {},
   "outputs": [
    {
     "data": {
      "text/plain": [
       "(6800376, 6800463)"
      ]
     },
     "execution_count": 44,
     "metadata": {},
     "output_type": "execute_result"
    }
   ],
   "source": [
    "import ast\n",
    "ast.literal_eval(data[0]['point'])"
   ]
  },
  {
   "cell_type": "code",
   "execution_count": 16,
   "id": "6590c118",
   "metadata": {},
   "outputs": [
    {
     "data": {
      "text/plain": [
       "{'point': (6806188, 6805679),\n",
       " 'path': [6806188,\n",
       "  6800392,\n",
       "  6800391,\n",
       "  6805646,\n",
       "  6800389,\n",
       "  6800388,\n",
       "  6800387,\n",
       "  6800386,\n",
       "  6800385,\n",
       "  6800384,\n",
       "  6800624,\n",
       "  6800359,\n",
       "  6802337,\n",
       "  6800358,\n",
       "  6800357,\n",
       "  6800356,\n",
       "  6800355,\n",
       "  6800354,\n",
       "  6800353,\n",
       "  6800352,\n",
       "  6800351,\n",
       "  6800337,\n",
       "  6800350,\n",
       "  6800336,\n",
       "  6800335,\n",
       "  6800348,\n",
       "  6800347,\n",
       "  6800346,\n",
       "  6800345,\n",
       "  6800344,\n",
       "  6800343,\n",
       "  6800342,\n",
       "  6800340,\n",
       "  6800339,\n",
       "  6800338,\n",
       "  6800160,\n",
       "  6801208,\n",
       "  6801849,\n",
       "  6801139,\n",
       "  6801799,\n",
       "  6800165,\n",
       "  6800006,\n",
       "  6805261,\n",
       "  6801864,\n",
       "  6801866,\n",
       "  6801817,\n",
       "  6800016,\n",
       "  6801874,\n",
       "  6801165,\n",
       "  6800626,\n",
       "  6801145,\n",
       "  6801146,\n",
       "  6806307,\n",
       "  6806308,\n",
       "  6806309,\n",
       "  6801843,\n",
       "  6801163,\n",
       "  6802358,\n",
       "  6805679],\n",
       " 'cost': 83,\n",
       " 'storage': 1007604,\n",
       " 'count': 2445,\n",
       " 'checking_edges': 1188}"
      ]
     },
     "execution_count": 16,
     "metadata": {},
     "output_type": "execute_result"
    }
   ],
   "source": [
    "experiments_samples_A_star[0]"
   ]
  },
  {
   "cell_type": "code",
   "execution_count": 14,
   "id": "48cc7497",
   "metadata": {},
   "outputs": [],
   "source": [
    "with open('Experiments_result/A_star.json', 'w') as jsonfile:\n",
    "\tjson.dump(experiments_samples_A_star, jsonfile, indent=4)"
   ]
  },
  {
   "cell_type": "code",
   "execution_count": 11,
   "id": "074694e9",
   "metadata": {},
   "outputs": [
    {
     "name": "stdout",
     "output_type": "stream",
     "text": [
      "[{'point': [6806309, 6800341], 'path': [6806309, 6806308, 6806307, 6801146, 6801145, 6800626, 6801165, 6801874, 6800016, 6801817, 6801866, 6801864, 6805261, 6800006, 6800165, 6801799, 6801139, 6801849, 6801208, 6800383, 6800154, 6800341], 'cost': 38, 'storage': 514158, 'count': 1760, 'checking_edges': 865}, {'point': [6801908, 6800482], 'path': [6801908, 6801909, 6806332, 6806333, 6802350, 6802399, 6801860, 6801862, 6805260, 6800040, 6801257, 6802339, 6800291, 6800290, 6800289, 6800288, 6800287, 6800286, 6800907, 6800260, 6802330, 6800261, 6802331, 6800247, 6800246, 6805639, 6800245, 6801804, 6800244, 6805633, 6805631, 6801277, 6800488, 6800487, 6800579, 6800485, 6801841, 6800484, 6800483, 6801275, 6800482], 'cost': 49, 'storage': 1125446, 'count': 2546, 'checking_edges': 1231}, {'point': [6800689, 6800614], 'path': [6800689, 6801227, 6800687, 6806327, 6800686, 6800685, 6800308, 6800309, 6801244, 6800322, 6800114, 6806359, 6806360, 6800949, 6800950, 6800961, 6800962, 6806273, 6800755, 6800756, 6800963, 6800964, 6800965, 6800757, 6802367, 6801057, 6801289, 6801051, 6801015, 6801016, 6801017, 6800516, 6805531, 6800610, 6800611, 6800612, 6800613, 6800614], 'cost': 78, 'storage': 776435, 'count': 2141, 'checking_edges': 1045}, {'point': [6800417, 6800045], 'path': [6800417, 6800478, 6800477, 6800476, 6800475, 6800474, 6800356, 6800355, 6800354, 6800353, 6800352, 6800351, 6800337, 6800350, 6800336, 6800335, 6800348, 6800347, 6800346, 6800345, 6800344, 6800343, 6800342, 6800341, 6800154, 6800155, 6801141, 6801304, 6800045], 'cost': 32, 'storage': 105383, 'count': 714, 'checking_edges': 369}, {'point': [6800563, 6801296], 'path': [6800563, 6800562, 6800561, 6800384, 6800624, 6800359, 6802337, 6800358, 6800357, 6800356, 6800355, 6800354, 6800353, 6800352, 6800351, 6800337, 6800350, 6800336, 6800335, 6800348, 6800347, 6800346, 6800345, 6800344, 6800343, 6800342, 6800340, 6800339, 6800338, 6800160, 6801208, 6801849, 6801139, 6801799, 6800165, 6800006, 6805261, 6801864, 6801866, 6801817, 6800016, 6801874, 6801165, 6800626, 6801296], 'cost': 67, 'storage': 540095, 'count': 1783, 'checking_edges': 887}, {'point': [6800076, 6800290], 'path': [6800076, 6800075, 6801485, 6800001, 6800045, 6800044, 6800043, 6800042, 6800149, 6800041, 6800040, 6801257, 6802339, 6800291, 6800290], 'cost': 16, 'storage': 19930, 'count': 342, 'checking_edges': 178}, {'point': [6805511, 6800667], 'path': [6805511, 6805509, 6802362, 6802356, 6802352, 6805508, 6802367, 6801057, 6801062, 6802408, 6802406, 6802404, 6805684, 6805520, 6805518, 6801910, 6802324, 6801211, 6801260, 6805486, 6800126, 6800125, 6802320, 6800124, 6800679, 6800678, 6800677, 6800676, 6800675, 6800674, 6800673, 6800672, 6800671, 6800670, 6800669, 6801200, 6800667], 'cost': 70, 'storage': 1534048, 'count': 2931, 'checking_edges': 1408}, {'point': [6800632, 6800141], 'path': [6800632, 6800631, 6800630, 6800629, 6800628, 6800133, 6802319, 6800132, 6800131, 6800130, 6801297, 6801908, 6801909, 6806332, 6806333, 6802350, 6806334, 6801864, 6805261, 6800006, 6800007, 6800137, 6801809, 6800138, 6800139, 6800141], 'cost': 49, 'storage': 385917, 'count': 1538, 'checking_edges': 750}, {'point': [6800816, 6800659], 'path': [6800816, 6800817, 6800818, 6801417, 6800819, 6800820, 6800803, 6800804, 6801219, 6800801, 6800800, 6800799, 6800798, 6801216, 6800770, 6800769, 6800768, 6800767, 6800766, 6800765, 6801294, 6800763, 6801051, 6801289, 6801057, 6801062, 6802408, 6802406, 6802404, 6805684, 6805520, 6805518, 6801910, 6802324, 6801211, 6801260, 6805486, 6800126, 6800125, 6802320, 6800124, 6800679, 6800678, 6800677, 6800676, 6800675, 6800674, 6800673, 6800672, 6800671, 6800670, 6800669, 6801200, 6800667, 6800666, 6800665, 6800664, 6800663, 6800662, 6801176, 6800660, 6800659], 'cost': 133, 'storage': 1739231, 'count': 3094, 'checking_edges': 1498}, {'point': [6801172, 6802346], 'path': [6801172, 6805706, 6801149, 6801875, 6800031, 6801816, 6801867, 6801865, 6805260, 6800040, 6801257, 6802339, 6800291, 6800290, 6800289, 6800288, 6800287, 6800286, 6800907, 6800260, 6802330, 6800261, 6802331, 6800247, 6800246, 6805639, 6800245, 6802346], 'cost': 38, 'storage': 645979, 'count': 1967, 'checking_edges': 973}, {'point': [6800340, 6801418], 'path': [6800340, 6800339, 6800338, 6800160, 6801208, 6801849, 6801139, 6801799, 6800165, 6800006, 6805261, 6801864, 6806334, 6802350, 6806333, 6806332, 6801909, 6805621, 6800055, 6801055, 6801056, 6801057, 6801289, 6801051, 6800763, 6801294, 6800765, 6800766, 6800767, 6800768, 6800769, 6800770, 6801216, 6800798, 6800799, 6800800, 6800801, 6801219, 6800804, 6800803, 6800820, 6800819, 6801417, 6800818, 6800817, 6800816, 6801418], 'cost': 90, 'storage': 1771018, 'count': 3115, 'checking_edges': 1499}, {'point': [6800471, 6801806], 'path': [6800471, 6800472, 6800475, 6800474, 6800356, 6800355, 6800354, 6800353, 6800352, 6800351, 6800337, 6800350, 6800336, 6800335, 6800348, 6800347, 6800346, 6800345, 6800344, 6800343, 6800342, 6800341, 6800154, 6800383, 6801208, 6801849, 6801139, 6801799, 6800165, 6801848, 6800149, 6800041, 6800040, 6800008, 6800038, 6800037, 6800036, 6800035, 6801806], 'cost': 48, 'storage': 237586, 'count': 1117, 'checking_edges': 555}, {'point': [6800100, 6800846], 'path': [6800100, 6801239, 6800099, 6800098, 6800097, 6806240, 6800096, 6800325, 6802393, 6802391, 6802389, 6806335, 6806337, 6805814, 6801842, 6801162, 6802359, 6802361, 6802310, 6801844, 6802353, 6805665, 6801051, 6800763, 6801294, 6800765, 6800766, 6800767, 6800768, 6800769, 6800770, 6800795, 6801221, 6800807, 6800848, 6800847, 6800846], 'cost': 77, 'storage': 1607755, 'count': 2963, 'checking_edges': 1429}, {'point': [6800398, 6800920], 'path': [6800398, 6800399, 6801229, 6800400, 6805643, 6801230, 6800509, 6800508, 6800507, 6800361, 6800417, 6800478, 6800477, 6800476, 6800475, 6800474, 6800356, 6800355, 6800354, 6800353, 6800352, 6800351, 6800337, 6800350, 6800336, 6800335, 6800418, 6800419, 6800420, 6800421, 6800422, 6800423, 6800424, 6800910, 6800911, 6801194, 6800912, 6800913, 6800914, 6805589, 6801195, 6800915, 6800916, 6800917, 6801196, 6800919, 6800920], 'cost': 33, 'storage': 34653, 'count': 396, 'checking_edges': 201}, {'point': [6805666, 6800868], 'path': [6805666, 6801492, 6801491, 6801490, 6801054, 6801070, 6801071, 6801149, 6801875, 6800031, 6806274, 6800947, 6800948, 6806361, 6806358, 6801241, 6800319, 6800320, 6800312, 6800313, 6800314, 6806319, 6806320, 6806321, 6800866, 6805594, 6800867, 6800868], 'cost': 44, 'storage': 938375, 'count': 2341, 'checking_edges': 1140}, {'point': [6801906, 6800999], 'path': [6801906, 6801863, 6801865, 6805260, 6800040, 6800008, 6800038, 6800037, 6800036, 6800035, 6801806, 6801010, 6801009, 6800990, 6801839, 6801007, 6801006, 6801005, 6801004, 6801003, 6801002, 6800703, 6805641, 6800704, 6805642, 6805648, 6800999], 'cost': 34, 'storage': 598820, 'count': 1900, 'checking_edges': 936}, {'point': [6800645, 6801821], 'path': [6800645, 6800644, 6800643, 6800642, 6800641, 6800640, 6800639, 6800638, 6800637, 6801201, 6800635, 6800634, 6800633, 6800632, 6800631, 6800630, 6800629, 6800628, 6800133, 6802319, 6800132, 6800131, 6800130, 6801297, 6801908, 6801492, 6801491, 6801903, 6801917, 6801295, 6801819, 6801820, 6801821], 'cost': 60, 'storage': 45438, 'count': 533, 'checking_edges': 293}, {'point': [6801415, 6801100], 'path': [6801415, 6800852, 6800851, 6800850, 6800849, 6800842, 6801426, 6800841, 6800840, 6805535, 6800839, 6800838, 6800837, 6800798, 6801216, 6800770, 6800769, 6800768, 6800767, 6800766, 6800765, 6801294, 6800763, 6801051, 6801289, 6801057, 6801062, 6801068, 6801069, 6801070, 6801071, 6801149, 6801875, 6800031, 6806274, 6800947, 6800948, 6806361, 6806358, 6801241, 6800319, 6800320, 6800312, 6800313, 6800314, 6806319, 6806320, 6806321, 6800866, 6801098, 6801099, 6801100], 'cost': 97, 'storage': 914107, 'count': 2312, 'checking_edges': 1126}, {'point': [6802362, 6801233], 'path': [6802362, 6805509, 6805511, 6805514, 6806244, 6806242, 6801233], 'cost': 12, 'storage': 4818, 'count': 155, 'checking_edges': 96}, {'point': [6800424, 6800369], 'path': [6800424, 6800423, 6800422, 6800421, 6800420, 6800419, 6800418, 6806186, 6800433, 6806190, 6800431, 6800331, 6800330, 6800329, 6800370, 6800369], 'cost': 17, 'storage': 14727, 'count': 260, 'checking_edges': 142}, {'point': [6800504, 6801914], 'path': [6800504, 6800503, 6800502, 6800501, 6801276, 6800500, 6800499, 6801840, 6800498, 6800497, 6800492, 6800491, 6801278, 6800489, 6805632, 6800240, 6805636, 6801803, 6800239, 6805638, 6805637, 6800261, 6802330, 6800260, 6800907, 6800286, 6800287, 6800288, 6800289, 6800290, 6800291, 6802339, 6801257, 6800040, 6805260, 6801862, 6801860, 6802399, 6802350, 6801835, 6802302, 6801914], 'cost': 52, 'storage': 430104, 'count': 1575, 'checking_edges': 781}, {'point': [6800681, 6800369], 'path': [6800681, 6806362, 6800222, 6801911, 6801139, 6801849, 6801208, 6800381, 6800378, 6800377, 6800376, 6800375, 6800374, 6800373, 6800372, 6800331, 6800330, 6800329, 6800370, 6800369], 'cost': 34, 'storage': 539971, 'count': 1788, 'checking_edges': 880}, {'point': [6805697, 6800302], 'path': [6805697, 6801842, 6806304, 6806305, 6806306, 6801172, 6805706, 6801149, 6801875, 6800031, 6801816, 6801867, 6801865, 6805260, 6800041, 6800149, 6801848, 6800165, 6800216, 6800150, 6800151, 6800152, 6800305, 6800304, 6800303, 6800302], 'cost': 55, 'storage': 849411, 'count': 2213, 'checking_edges': 1084}, {'point': [6800301, 6801807], 'path': [6800301, 6800300, 6801011, 6800636, 6800216, 6800165, 6800006, 6805261, 6801864, 6801866, 6801817, 6800016, 6800950, 6800949, 6800015, 6800014, 6800587, 6800591, 6801807], 'cost': 51, 'storage': 379900, 'count': 1493, 'checking_edges': 747}, {'point': [6800422, 6800450], 'path': [6800422, 6800421, 6800420, 6800419, 6800418, 6800335, 6800348, 6800347, 6800346, 6800345, 6801128, 6801129, 6800443, 6800444, 6801269, 6800445, 6800446, 6800447, 6800448, 6800449, 6800450], 'cost': 28, 'storage': 117252, 'count': 793, 'checking_edges': 396}, {'point': [6800894, 6800307], 'path': [6800894, 6800864, 6800906, 6800905, 6806322, 6800307], 'cost': 14, 'storage': 1397, 'count': 72, 'checking_edges': 41}, {'point': [6800467, 6800798], 'path': [6800467, 6800468, 6800474, 6800356, 6800355, 6800354, 6800353, 6800352, 6800351, 6800337, 6800350, 6800336, 6800335, 6800348, 6800347, 6800346, 6800345, 6800344, 6800343, 6800342, 6800340, 6800339, 6800338, 6800160, 6801208, 6801849, 6801139, 6801799, 6800165, 6800006, 6805261, 6801864, 6806334, 6802350, 6806333, 6806332, 6801909, 6805621, 6800055, 6801055, 6801056, 6801057, 6801289, 6801051, 6800763, 6801294, 6800765, 6800766, 6800767, 6800768, 6800769, 6800770, 6801216, 6800798], 'cost': 86, 'storage': 1404510, 'count': 2836, 'checking_edges': 1366}, {'point': [6805624, 6800904], 'path': [6805624, 6805622, 6802408, 6801062, 6801068, 6801069, 6801070, 6801071, 6801165, 6801874, 6800016, 6800950, 6800949, 6806360, 6806359, 6800114, 6800322, 6801244, 6800309, 6800308, 6800307, 6806322, 6800905, 6800904], 'cost': 42, 'storage': 645448, 'count': 1980, 'checking_edges': 957}, {'point': [6800635, 6800211], 'path': [6800635, 6800634, 6800633, 6800632, 6800631, 6800630, 6800629, 6800628, 6800133, 6802319, 6800132, 6800131, 6800130, 6801297, 6801908, 6801909, 6806332, 6806333, 6802350, 6806334, 6801864, 6805261, 6800006, 6800165, 6800216, 6800636, 6800214, 6800213, 6800212, 6800211], 'cost': 58, 'storage': 491273, 'count': 1731, 'checking_edges': 844}, {'point': [6801289, 6800069], 'path': [6801289, 6805667, 6802354, 6802395, 6801288, 6801058, 6801095, 6801059, 6801287, 6800069], 'cost': 21, 'storage': 154851, 'count': 945, 'checking_edges': 484}, {'point': [6800490, 6800124], 'path': [6800490, 6801278, 6800489, 6805632, 6800240, 6805636, 6801803, 6800239, 6805638, 6805637, 6800261, 6802330, 6800260, 6800907, 6800286, 6800287, 6800288, 6800289, 6800290, 6800291, 6802339, 6801257, 6800040, 6805260, 6801862, 6801905, 6801879, 6801881, 6801883, 6801884, 6801888, 6806237, 6801211, 6801260, 6805486, 6800126, 6800125, 6802320, 6800124], 'cost': 53, 'storage': 812676, 'count': 2170, 'checking_edges': 1064}, {'point': [6800695, 6800469], 'path': [6800695, 6802320, 6800125, 6800126, 6805486, 6801260, 6801211, 6806237, 6801888, 6801884, 6801883, 6801881, 6801879, 6801905, 6801862, 6805260, 6800040, 6801257, 6802339, 6800291, 6800290, 6800289, 6800288, 6800287, 6800286, 6800907, 6800260, 6802330, 6800261, 6802331, 6800247, 6800246, 6805639, 6800245, 6801804, 6800244, 6805633, 6805631, 6801277, 6800488, 6800487, 6800579, 6800485, 6801841, 6800484, 6800483, 6801275, 6800482, 6800481, 6800480, 6805634, 6800479, 6800470, 6800469], 'cost': 69, 'storage': 1333073, 'count': 2757, 'checking_edges': 1333}, {'point': [6801060, 6800466], 'path': [6801060, 6801061, 6801062, 6801068, 6801069, 6801070, 6801071, 6801165, 6801874, 6800016, 6801817, 6801866, 6801864, 6805261, 6800006, 6800165, 6801799, 6801139, 6801849, 6801208, 6800160, 6800338, 6800339, 6800340, 6800342, 6800343, 6800344, 6800345, 6800346, 6800347, 6800348, 6800335, 6800336, 6800350, 6800337, 6800351, 6800352, 6800353, 6800354, 6800355, 6800356, 6800474, 6800468, 6800467, 6800466], 'cost': 79, 'storage': 1431741, 'count': 2818, 'checking_edges': 1367}, {'point': [6800462, 6800422], 'path': [6800462, 6801202, 6800461, 6800460, 6801126, 6801127, 6800375, 6800374, 6800373, 6800372, 6800331, 6800431, 6806190, 6800433, 6806186, 6800418, 6800419, 6800420, 6800421, 6800422], 'cost': 26, 'storage': 30966, 'count': 420, 'checking_edges': 215}, {'point': [6801052, 6805538], 'path': [6801052, 6805706, 6801149, 6801875, 6800031, 6801816, 6801867, 6801865, 6805260, 6800041, 6800149, 6800042, 6805538], 'cost': 23, 'storage': 185617, 'count': 1076, 'checking_edges': 536}, {'point': [6800994, 6805535], 'path': [6800994, 6800995, 6805630, 6800996, 6805648, 6800999, 6800701, 6800700, 6801266, 6800714, 6802321, 6801075, 6801261, 6801264, 6800697, 6800696, 6800695, 6802320, 6800125, 6800126, 6805486, 6801260, 6801211, 6802324, 6801910, 6805518, 6805520, 6805684, 6802404, 6802406, 6802408, 6801062, 6801057, 6801289, 6801051, 6800763, 6801294, 6800765, 6800766, 6800767, 6800768, 6800769, 6800770, 6801216, 6800798, 6800837, 6800838, 6800839, 6805535], 'cost': 83, 'storage': 1467336, 'count': 2860, 'checking_edges': 1383}, {'point': [6805678, 6800394], 'path': [6805678, 6802359, 6801162, 6801842, 6806304, 6806305, 6806306, 6801172, 6805706, 6801149, 6801875, 6800031, 6801816, 6801867, 6801865, 6805260, 6800040, 6801257, 6802339, 6800291, 6800290, 6800289, 6800288, 6800287, 6800286, 6800907, 6800260, 6802330, 6800261, 6802331, 6800247, 6800246, 6805639, 6800245, 6801804, 6800244, 6805633, 6805631, 6801277, 6800488, 6800487, 6800579, 6800485, 6801841, 6800484, 6800483, 6801275, 6800482, 6800481, 6800480, 6805634, 6800479, 6800470, 6800469, 6800384, 6800385, 6800386, 6800387, 6800388, 6800389, 6805646, 6800391, 6800392, 6806188, 6806189, 6801118, 6800393, 6800394], 'cost': 89, 'storage': 1705753, 'count': 3064, 'checking_edges': 1480}, {'point': [6801106, 6800402], 'path': [6801106, 6800890, 6801983, 6800905, 6800906, 6800314, 6800313, 6800312, 6800320, 6800319, 6800862, 6800113, 6800112, 6800974, 6806239, 6800315, 6800109, 6800108, 6801238, 6800107, 6801138, 6800078, 6800077, 6800076, 6800075, 6801485, 6800001, 6800157, 6800158, 6800159, 6800160, 6800338, 6800339, 6800340, 6800342, 6800343, 6800344, 6800345, 6800346, 6800347, 6800348, 6800335, 6800336, 6800350, 6800337, 6800351, 6800352, 6800353, 6800354, 6800355, 6800356, 6800474, 6800475, 6800476, 6800477, 6800478, 6800417, 6800361, 6800507, 6800508, 6800509, 6801230, 6805643, 6805644, 6800402], 'cost': 93, 'storage': 1644089, 'count': 3012, 'checking_edges': 1461}, {'point': [6801179, 6802390], 'path': [6801179, 6801295, 6801823, 6801071, 6801165, 6800626, 6801145, 6801146, 6806307, 6806308, 6806309, 6801843, 6805815, 6806338, 6806336, 6802390], 'cost': 32, 'storage': 488484, 'count': 1750, 'checking_edges': 845}, {'point': [6800364, 6802389], 'path': [6800364, 6800365, 6800468, 6800474, 6800356, 6800355, 6800354, 6800353, 6800352, 6800351, 6800337, 6800350, 6800336, 6800335, 6800348, 6800347, 6800346, 6800345, 6800344, 6800343, 6800342, 6800340, 6800339, 6800338, 6800160, 6800159, 6800158, 6800157, 6800001, 6801485, 6800075, 6800105, 6800103, 6800327, 6800101, 6802317, 6800100, 6801239, 6800099, 6800098, 6800097, 6806240, 6800096, 6800325, 6802393, 6802391, 6802389], 'cost': 63, 'storage': 724570, 'count': 2061, 'checking_edges': 1009}, {'point': [6806315, 6802317], 'path': [6806315, 6806275, 6800016, 6801817, 6801866, 6801864, 6805261, 6800006, 6800136, 6800005, 6800004, 6800748, 6800002, 6800001, 6801485, 6800075, 6800105, 6800103, 6800327, 6800101, 6802317], 'cost': 34, 'storage': 542941, 'count': 1827, 'checking_edges': 898}, {'point': [6800108, 6800765], 'path': [6800108, 6800109, 6800315, 6806239, 6800974, 6800316, 6802394, 6802392, 6802390, 6806336, 6806338, 6805815, 6801843, 6801163, 6802358, 6802363, 6802311, 6801845, 6802354, 6805667, 6801015, 6801051, 6800763, 6801294, 6800765], 'cost': 50, 'storage': 929481, 'count': 2278, 'checking_edges': 1126}, {'point': [6802342, 6800574], 'path': [6802342, 6805537, 6800032, 6800033, 6801232, 6800034, 6800035, 6800036, 6800037, 6800038, 6800008, 6800040, 6801257, 6802339, 6800291, 6800290, 6800289, 6800288, 6800287, 6800286, 6800907, 6800260, 6802330, 6800261, 6805637, 6805638, 6800239, 6801803, 6805636, 6800240, 6805632, 6800489, 6801278, 6800491, 6800492, 6800497, 6800498, 6801840, 6800499, 6800500, 6801276, 6800501, 6800502, 6800503, 6800504, 6800505, 6800477, 6800478, 6800417, 6800361, 6800507, 6800508, 6805652, 6805653, 6805654, 6800574], 'cost': 72, 'storage': 1491878, 'count': 2877, 'checking_edges': 1389}, {'point': [6805665, 6800666], 'path': [6805665, 6802353, 6802396, 6801289, 6801057, 6801062, 6802408, 6802406, 6802404, 6805684, 6805520, 6805518, 6801910, 6802324, 6801211, 6801260, 6805486, 6800126, 6800125, 6802320, 6800124, 6800679, 6800678, 6800677, 6800676, 6800675, 6800674, 6800673, 6800672, 6800671, 6800670, 6800669, 6801200, 6800667, 6800666], 'cost': 72, 'storage': 1470830, 'count': 2876, 'checking_edges': 1387}, {'point': [6800498, 6800631], 'path': [6800498, 6800497, 6800492, 6800491, 6801278, 6800489, 6805632, 6800240, 6805636, 6801803, 6800239, 6805638, 6805637, 6800261, 6802330, 6800260, 6800907, 6800286, 6800287, 6800288, 6800289, 6800290, 6800291, 6802339, 6801257, 6800040, 6805260, 6801862, 6801860, 6802399, 6802350, 6806333, 6806332, 6801909, 6801908, 6801297, 6800130, 6800131, 6800132, 6802319, 6800133, 6800628, 6800629, 6800630, 6800631], 'cost': 63, 'storage': 1051328, 'count': 2461, 'checking_edges': 1207}, {'point': [6800626, 6801051], 'path': [6800626, 6801165, 6801071, 6801070, 6801069, 6801068, 6801062, 6801057, 6801289, 6801051], 'cost': 17, 'storage': 113364, 'count': 829, 'checking_edges': 406}, {'point': [6800334, 6806360], 'path': [6800334, 6800372, 6800373, 6800374, 6800375, 6800376, 6800377, 6800378, 6800381, 6801208, 6801849, 6801139, 6801799, 6800165, 6800006, 6805261, 6801864, 6801866, 6801817, 6800016, 6800950, 6800949, 6806360], 'cost': 48, 'storage': 407581, 'count': 1510, 'checking_edges': 757}, {'point': [6805632, 6800880], 'path': [6805632, 6800240, 6805636, 6801803, 6800239, 6805638, 6805637, 6800261, 6802330, 6800260, 6800907, 6800286, 6800287, 6800288, 6800289, 6800290, 6800291, 6802339, 6801257, 6800040, 6800008, 6800038, 6800037, 6800036, 6800035, 6800034, 6801232, 6800033, 6800032, 6800948, 6806361, 6806358, 6801241, 6800319, 6800320, 6800312, 6800313, 6800314, 6800906, 6800905, 6801983, 6800890, 6801106, 6800889, 6800888, 6800887, 6800886, 6800885, 6800884, 6800883, 6800882, 6800881, 6800880], 'cost': 87, 'storage': 1671307, 'count': 3055, 'checking_edges': 1463}, {'point': [6801799, 6805635], 'path': [6801799, 6800216, 6800636, 6801011, 6800255, 6800254, 6800253, 6800252, 6800251, 6800250, 6801259, 6802332, 6800248, 6802331, 6800247, 6800246, 6805639, 6800245, 6801804, 6805635], 'cost': 18, 'storage': 85834, 'count': 714, 'checking_edges': 370}, {'point': [6800888, 6800342], 'path': [6800888, 6800889, 6801106, 6800890, 6801983, 6800905, 6800906, 6800314, 6800313, 6800312, 6800320, 6800319, 6800862, 6800113, 6800112, 6800974, 6806239, 6800315, 6800109, 6800108, 6801238, 6800107, 6801138, 6800078, 6800077, 6800076, 6800075, 6801485, 6800001, 6800157, 6800158, 6800159, 6800160, 6800338, 6800339, 6800340, 6800342], 'cost': 60, 'storage': 545144, 'count': 1811, 'checking_edges': 884}, {'point': [6801197, 6801051], 'path': [6801197, 6800920, 6800919, 6801196, 6800917, 6800916, 6800915, 6801195, 6805589, 6800914, 6800913, 6800912, 6801194, 6800911, 6800910, 6800424, 6800423, 6800422, 6800421, 6800420, 6800419, 6800418, 6800335, 6800348, 6800347, 6800346, 6800345, 6800344, 6800343, 6800342, 6800340, 6800339, 6800338, 6800160, 6801208, 6801849, 6801139, 6801799, 6800165, 6800006, 6805261, 6801864, 6806334, 6802350, 6806333, 6806332, 6801909, 6805621, 6800055, 6801055, 6801056, 6801057, 6801289, 6801051], 'cost': 55, 'storage': 880284, 'count': 2274, 'checking_edges': 1100}, {'point': [6800892, 6806316], 'path': [6800892, 6800893, 6800307, 6800308, 6800309, 6801244, 6800322, 6800114, 6806359, 6806360, 6800949, 6800950, 6800016, 6801817, 6806274, 6806316], 'cost': 27, 'storage': 21120, 'count': 314, 'checking_edges': 172}, {'point': [6801228, 6800589], 'path': [6801228, 6800693, 6801225, 6802345, 6800694, 6805618, 6800314, 6800313, 6800312, 6800320, 6800319, 6801241, 6806358, 6806361, 6800948, 6800947, 6806274, 6801817, 6801866, 6801864, 6801862, 6800589], 'cost': 58, 'storage': 117281, 'count': 790, 'checking_edges': 434}, {'point': [6801825, 6806002], 'path': [6801825, 6802349, 6802400, 6801858, 6801860, 6801862, 6805260, 6800041, 6800149, 6800042, 6800043, 6800044, 6800045, 6801304, 6801485, 6800075, 6800076, 6800077, 6805587, 6806002], 'cost': 29, 'storage': 351519, 'count': 1499, 'checking_edges': 743}, {'point': [6800905, 6800478], 'path': [6800905, 6800906, 6800314, 6800313, 6800312, 6800320, 6800319, 6800862, 6800113, 6800112, 6800974, 6806239, 6800315, 6800109, 6800108, 6801238, 6800107, 6801138, 6800078, 6800077, 6800076, 6800075, 6801485, 6800001, 6800157, 6800158, 6800159, 6800160, 6800338, 6800339, 6800340, 6800342, 6800343, 6800344, 6800345, 6800346, 6800347, 6800348, 6800335, 6800336, 6800350, 6800337, 6800351, 6800352, 6800353, 6800354, 6800355, 6800356, 6800474, 6800475, 6800476, 6800477, 6800478], 'cost': 69, 'storage': 1194180, 'count': 2597, 'checking_edges': 1265}, {'point': [6805513, 6800822], 'path': [6805513, 6805517, 6805510, 6802360, 6802357, 6802355, 6805507, 6800758, 6802367, 6801057, 6801289, 6801051, 6801015, 6801851, 6800822], 'cost': 28, 'storage': 173889, 'count': 1010, 'checking_edges': 498}, {'point': [6801176, 6800672], 'path': [6801176, 6800662, 6800663, 6800664, 6800665, 6800666, 6800667, 6801200, 6800669, 6800670, 6800671, 6800672], 'cost': 33, 'storage': 358, 'count': 34, 'checking_edges': 18}, {'point': [6805683, 6800438], 'path': [6805683, 6805664, 6805533, 6801158, 6801157, 6800055, 6805621, 6801909, 6806332, 6806333, 6802350, 6806334, 6801864, 6805261, 6800006, 6800165, 6801799, 6801139, 6801849, 6801208, 6800160, 6800338, 6800339, 6800340, 6800342, 6800343, 6800344, 6800345, 6800346, 6800347, 6800348, 6800335, 6800418, 6806186, 6800433, 6800440, 6800439, 6800438], 'cost': 64, 'storage': 1381376, 'count': 2800, 'checking_edges': 1349}, {'point': [6801415, 6805515], 'path': [6801415, 6800852, 6800851, 6800850, 6800849, 6800842, 6801426, 6800841, 6800840, 6805535, 6800839, 6800838, 6800837, 6800798, 6801216, 6800770, 6800769, 6800768, 6800767, 6800766, 6800765, 6801294, 6800763, 6801051, 6801289, 6801057, 6801056, 6801055, 6800055, 6805621, 6801909, 6806332, 6806333, 6802350, 6806334, 6801864, 6805261, 6800006, 6800136, 6800005, 6800004, 6800748, 6800002, 6800001, 6801982, 6805515], 'cost': 85, 'storage': 552287, 'count': 1798, 'checking_edges': 880}, {'point': [6800927, 6800150], 'path': [6800927, 6800928, 6800929, 6800930, 6800931, 6800932, 6805588, 6800918, 6800933, 6800934, 6800935, 6800936, 6800937, 6800938, 6800939, 6800940, 6800941, 6800942, 6800943, 6800425, 6800426, 6800427, 6800428, 6800429, 6800430, 6800431, 6800331, 6800372, 6800373, 6800374, 6800375, 6800376, 6800377, 6800378, 6800381, 6801208, 6801849, 6801139, 6801799, 6800216, 6800150], 'cost': 73, 'storage': 54958, 'count': 522, 'checking_edges': 277}, {'point': [6801015, 6805615], 'path': [6801015, 6801051, 6801289, 6801057, 6802367, 6800757, 6800965, 6800964, 6800963, 6800756, 6800755, 6806273, 6800962, 6800961, 6800950, 6800949, 6806360, 6806359, 6800114, 6800322, 6801244, 6800309, 6800308, 6800307, 6806322, 6800905, 6800904, 6800903, 6800902, 6805617, 6805614, 6805615], 'cost': 59, 'storage': 1162801, 'count': 2583, 'checking_edges': 1251}, {'point': [6800094, 6805811], 'path': [6800094, 6800095, 6800096, 6806240, 6800097, 6800098, 6800099, 6801239, 6800100, 6802317, 6800101, 6800327, 6800103, 6800105, 6800075, 6801485, 6800001, 6800157, 6800158, 6800159, 6800160, 6800338, 6800339, 6800340, 6800342, 6805811], 'cost': 43, 'storage': 519750, 'count': 1748, 'checking_edges': 850}, {'point': [6800041, 6801878], 'path': [6800041, 6805260, 6801865, 6801863, 6801906, 6801878], 'cost': 12, 'storage': 30661, 'count': 426, 'checking_edges': 234}, {'point': [6802328, 6800856], 'path': [6802328, 6806271, 6800069, 6801287, 6801059, 6801095, 6801058, 6801288, 6805665, 6801051, 6800763, 6801294, 6800765, 6800766, 6800767, 6800768, 6800769, 6800770, 6801216, 6800798, 6800799, 6800800, 6800801, 6801219, 6800804, 6800803, 6800820, 6800819, 6801417, 6800818, 6800817, 6800816, 6801418, 6800855, 6800856], 'cost': 76, 'storage': 1153698, 'count': 2569, 'checking_edges': 1247}, {'point': [6800629, 6800351], 'path': [6800629, 6800628, 6800133, 6802319, 6800132, 6800131, 6800130, 6801297, 6806238, 6801889, 6801885, 6801882, 6801880, 6801878, 6801906, 6801863, 6805261, 6800006, 6800165, 6801799, 6801139, 6801849, 6801208, 6800160, 6800338, 6800339, 6800340, 6800342, 6800343, 6800344, 6800345, 6800346, 6800347, 6800348, 6800335, 6800336, 6800350, 6800337, 6800351], 'cost': 60, 'storage': 1029145, 'count': 2448, 'checking_edges': 1185}, {'point': [6800795, 6800610], 'path': [6800795, 6800770, 6800769, 6800768, 6800767, 6800766, 6800765, 6801294, 6800763, 6801051, 6801015, 6801016, 6801017, 6800516, 6805531, 6800610], 'cost': 31, 'storage': 42981, 'count': 466, 'checking_edges': 255}, {'point': [6805635, 6800722], 'path': [6805635, 6801804, 6800245, 6805639, 6800246, 6800247, 6802331, 6800261, 6802330, 6800260, 6800907, 6800286, 6800287, 6800288, 6800289, 6800290, 6800291, 6802339, 6801257, 6800040, 6805260, 6801862, 6801905, 6801879, 6801881, 6801883, 6801884, 6801888, 6806237, 6801211, 6801260, 6805486, 6800126, 6800125, 6802320, 6800124, 6800720, 6800721, 6800722], 'cost': 64, 'storage': 1231913, 'count': 2652, 'checking_edges': 1287}, {'point': [6801858, 6800437], 'path': [6801858, 6801860, 6801862, 6805260, 6800041, 6800149, 6801848, 6800165, 6801799, 6801139, 6801849, 6801208, 6800160, 6800338, 6800339, 6800340, 6800342, 6800343, 6800344, 6800345, 6800346, 6800347, 6800348, 6800335, 6800418, 6806186, 6800433, 6801120, 6800435, 6800436, 6800437], 'cost': 47, 'storage': 1125244, 'count': 2521, 'checking_edges': 1237}, {'point': [6801494, 6800852], 'path': [6801494, 6802351, 6801826, 6801890, 6801904, 6800055, 6801055, 6801056, 6801057, 6801289, 6801051, 6800763, 6801294, 6800765, 6800766, 6800767, 6800768, 6800769, 6800770, 6801216, 6800798, 6800837, 6800838, 6800839, 6805535, 6800840, 6800841, 6801426, 6800842, 6800849, 6800850, 6800851, 6800852], 'cost': 65, 'storage': 1580782, 'count': 2964, 'checking_edges': 1434}, {'point': [6802341, 6800005], 'path': [6802341, 6801898, 6801896, 6801042, 6801043, 6801044, 6800742, 6801288, 6806345, 6805532, 6801167, 6805808, 6801070, 6801071, 6801165, 6801874, 6800016, 6801817, 6801866, 6801864, 6805261, 6800006, 6800136, 6800005], 'cost': 51, 'storage': 305460, 'count': 1349, 'checking_edges': 644}, {'point': [6800667, 6800383], 'path': [6800667, 6801200, 6800669, 6800670, 6800671, 6800672, 6800673, 6800674, 6800675, 6800676, 6800677, 6800678, 6800679, 6800124, 6802320, 6800125, 6800126, 6805486, 6801260, 6801211, 6806237, 6801888, 6801884, 6801883, 6801881, 6801879, 6801905, 6801862, 6805260, 6800041, 6800149, 6801848, 6800165, 6801799, 6801139, 6801849, 6801208, 6800383], 'cost': 75, 'storage': 360752, 'count': 1509, 'checking_edges': 736}, {'point': [6806329, 6801181], 'path': [6806329, 6802349, 6802400, 6805670, 6801916, 6801181], 'cost': 7, 'storage': 1188, 'count': 73, 'checking_edges': 48}, {'point': [6800634, 6802333], 'path': [6800634, 6800633, 6800632, 6800631, 6800630, 6800629, 6800628, 6800133, 6802319, 6800132, 6800131, 6800130, 6801297, 6801908, 6801909, 6806332, 6806333, 6802350, 6802399, 6801860, 6801862, 6805260, 6800041, 6801050, 6801013, 6800143, 6800142, 6802333], 'cost': 53, 'storage': 385340, 'count': 1538, 'checking_edges': 750}, {'point': [6800345, 6805639], 'path': [6800345, 6800344, 6800343, 6800342, 6800341, 6800154, 6800383, 6801208, 6801849, 6801139, 6801799, 6800216, 6800636, 6801011, 6800255, 6800254, 6800253, 6800252, 6800251, 6800250, 6801259, 6802332, 6800248, 6802331, 6800247, 6800246, 6805639], 'cost': 29, 'storage': 170197, 'count': 959, 'checking_edges': 486}, {'point': [6805515, 6800266], 'path': [6805515, 6801982, 6801304, 6800045, 6800044, 6800146, 6801050, 6806366, 6806364, 6800636, 6801011, 6800255, 6800254, 6800253, 6800274, 6800273, 6800272, 6800271, 6800270, 6800269, 6800268, 6800267, 6800266], 'cost': 33, 'storage': 460373, 'count': 1648, 'checking_edges': 818}, {'point': [6801289, 6800304], 'path': [6801289, 6801057, 6801056, 6801055, 6800055, 6805621, 6801909, 6806332, 6806333, 6802350, 6806334, 6801864, 6805261, 6800006, 6800165, 6800216, 6800150, 6800151, 6800152, 6800305, 6800304], 'cost': 45, 'storage': 773743, 'count': 2132, 'checking_edges': 1033}, {'point': [6805637, 6802394], 'path': [6805637, 6800261, 6802330, 6800260, 6800907, 6800286, 6800287, 6800288, 6800289, 6800290, 6800291, 6802339, 6801257, 6800040, 6800008, 6800038, 6800037, 6800036, 6800035, 6800034, 6801232, 6800033, 6800032, 6800948, 6806361, 6806358, 6801241, 6800319, 6800862, 6800113, 6800112, 6800974, 6800316, 6802394], 'cost': 43, 'storage': 764826, 'count': 2119, 'checking_edges': 1031}, {'point': [6802405, 6800491], 'path': [6802405, 6802403, 6805519, 6805621, 6801909, 6806332, 6806333, 6802350, 6802399, 6801860, 6801862, 6805260, 6800040, 6801257, 6802339, 6800291, 6800290, 6800289, 6800288, 6800287, 6800286, 6800907, 6800260, 6802330, 6800261, 6805637, 6805638, 6800239, 6801803, 6805636, 6800240, 6805632, 6800489, 6801278, 6800491], 'cost': 47, 'storage': 855263, 'count': 2261, 'checking_edges': 1092}, {'point': [6800359, 6800234], 'path': [6800359, 6800624, 6800384, 6800469, 6800470, 6800479, 6805634, 6800480, 6800481, 6800482, 6801275, 6800483, 6800484, 6801841, 6800485, 6800579, 6800494, 6800493, 6800492, 6800491, 6801278, 6800489, 6805632, 6800240, 6805636, 6801803, 6800239, 6800238, 6801802, 6800237, 6800236, 6800235, 6800234], 'cost': 58, 'storage': 484888, 'count': 1692, 'checking_edges': 834}, {'point': [6800281, 6905615], 'path': [6800281, 6800282, 6800283, 6800284, 6801252, 6800285, 6800286, 6800287, 6800288, 6800289, 6800290, 6800291, 6802339, 6801257, 6800040, 6800008, 6800038, 6800037, 6800036, 6800035, 6800034, 6801232, 6800033, 6800032, 6800948, 6806361, 6806358, 6801241, 6800319, 6800320, 6800312, 6800313, 6800314, 6800906, 6800905, 6800904, 6800903, 6800902, 6905614, 6905615], 'cost': 62, 'storage': 1314605, 'count': 2750, 'checking_edges': 1316}, {'point': [6800709, 6806336], 'path': [6800709, 6802322, 6800715, 6801262, 6801263, 6800717, 6800718, 6800719, 6802319, 6800132, 6800131, 6800130, 6801297, 6801908, 6801492, 6801491, 6801490, 6801054, 6801070, 6801071, 6801165, 6800626, 6801145, 6801146, 6806307, 6806308, 6806309, 6801843, 6805815, 6806338, 6806336], 'cost': 61, 'storage': 703983, 'count': 2049, 'checking_edges': 997}, {'point': [6801297, 6800619], 'path': [6801297, 6801908, 6801909, 6805621, 6800055, 6801055, 6801056, 6801057, 6801289, 6805667, 6800742, 6801044, 6801043, 6801042, 6800553, 6800517, 6800620, 6800619], 'cost': 37, 'storage': 567309, 'count': 1853, 'checking_edges': 913}, {'point': [6800402, 6805490], 'path': [6800402, 6805644, 6800401, 6800511, 6800512, 6800513, 6800514, 6800515, 6800417, 6800478, 6800477, 6800505, 6800504, 6800503, 6800502, 6800501, 6801276, 6800500, 6800499, 6801840, 6800498, 6800497, 6800492, 6800491, 6801278, 6800489, 6805632, 6800240, 6805636, 6801803, 6800239, 6805638, 6805637, 6800261, 6802330, 6800260, 6800907, 6800286, 6800287, 6800288, 6800289, 6800290, 6800291, 6802339, 6801257, 6800040, 6805260, 6801865, 6801867, 6801816, 6800031, 6801875, 6801149, 6801071, 6801070, 6805808, 6801167, 6805532, 6806345, 6801288, 6801058, 6801095, 6801059, 6801287, 6800069, 6806271, 6802328, 6800585, 6800584, 6805488, 6800583, 6805489, 6800582, 6805490], 'cost': 129, 'storage': 1710017, 'count': 3090, 'checking_edges': 1492}, {'point': [6801486, 6800078], 'path': [6801486, 6801016, 6801015, 6801051, 6801289, 6801057, 6801056, 6801055, 6800055, 6805621, 6801909, 6806332, 6806333, 6802350, 6806334, 6801864, 6805261, 6800006, 6800136, 6800005, 6800004, 6800748, 6800002, 6800001, 6801485, 6800075, 6800076, 6800077, 6800078], 'cost': 50, 'storage': 715158, 'count': 2065, 'checking_edges': 999}, {'point': [6800233, 6800213], 'path': [6800233, 6800232, 6800231, 6800230, 6800229, 6800228, 6800227, 6800226, 6800225, 6800224, 6802329, 6800223, 6806365, 6806367, 6800165, 6800216, 6800636, 6800214, 6800213], 'cost': 49, 'storage': 40006, 'count': 466, 'checking_edges': 245}, {'point': [6801166, 6801497], 'path': [6801166, 6801167, 6805808, 6801070, 6801497], 'cost': 7, 'storage': 620, 'count': 52, 'checking_edges': 34}, {'point': [6806304, 6801257], 'path': [6806304, 6806305, 6806306, 6801172, 6805706, 6801149, 6801875, 6800031, 6801816, 6801867, 6801865, 6805260, 6800040, 6801257], 'cost': 26, 'storage': 141686, 'count': 943, 'checking_edges': 463}, {'point': [6800315, 6801842], 'path': [6800315, 6806239, 6800974, 6800112, 6800113, 6800862, 6800319, 6801241, 6806358, 6806361, 6800948, 6800947, 6806274, 6800031, 6801875, 6801149, 6805706, 6801172, 6806306, 6806305, 6806304, 6801842], 'cost': 44, 'storage': 686417, 'count': 1975, 'checking_edges': 969}, {'point': [6801906, 6800497], 'path': [6801906, 6801863, 6801865, 6805260, 6800040, 6801257, 6802339, 6800291, 6800290, 6800289, 6800288, 6800287, 6800286, 6800907, 6800260, 6802330, 6800261, 6805637, 6805638, 6800239, 6801803, 6805636, 6800240, 6805632, 6800489, 6801278, 6800491, 6800492, 6800497], 'cost': 35, 'storage': 675854, 'count': 1995, 'checking_edges': 986}, {'point': [6800779, 6801861], 'path': [6800779, 6800778, 6800777, 6800776, 6800775, 6800774, 6800773, 6800772, 6800771, 6800770, 6800769, 6800768, 6800767, 6800766, 6800765, 6801294, 6800763, 6801051, 6801289, 6801057, 6801056, 6801055, 6800055, 6805621, 6801909, 6806332, 6806333, 6802350, 6802399, 6801859, 6801861], 'cost': 47, 'storage': 210772, 'count': 1074, 'checking_edges': 553}, {'point': [6802333, 6802339], 'path': [6802333, 6800142, 6800143, 6801013, 6801050, 6800041, 6800040, 6801257, 6802339], 'cost': 12, 'storage': 4864, 'count': 162, 'checking_edges': 92}, {'point': [6800563, 6805705], 'path': [6800563, 6800562, 6800561, 6800384, 6800469, 6800470, 6800479, 6805634, 6800480, 6800481, 6800482, 6801275, 6800483, 6800484, 6801841, 6800485, 6800579, 6800487, 6800488, 6801277, 6805631, 6805633, 6800244, 6801804, 6800245, 6805639, 6800246, 6800247, 6802331, 6800261, 6802330, 6800260, 6800907, 6800286, 6800287, 6800288, 6800289, 6800290, 6800291, 6802339, 6801257, 6800040, 6805260, 6801862, 6801860, 6802399, 6802350, 6806333, 6806332, 6801909, 6805621, 6805519, 6802403, 6805628, 6805705], 'cost': 71, 'storage': 702453, 'count': 2032, 'checking_edges': 1000}, {'point': [6802390, 6805515], 'path': [6802390, 6802392, 6802394, 6800316, 6800974, 6806239, 6800315, 6800109, 6800108, 6801238, 6800107, 6801138, 6800078, 6800077, 6800076, 6800075, 6801485, 6800001, 6801982, 6805515], 'cost': 33, 'storage': 83340, 'count': 670, 'checking_edges': 378}, {'point': [6800937, 6801220], 'path': [6800937, 6800938, 6800939, 6800940, 6800941, 6800942, 6800943, 6800425, 6800426, 6800427, 6800428, 6800429, 6800430, 6800431, 6800331, 6800372, 6800373, 6800374, 6800375, 6800376, 6800377, 6800378, 6800381, 6801208, 6801849, 6801139, 6801799, 6800165, 6800006, 6805261, 6801864, 6806334, 6802350, 6806333, 6806332, 6801909, 6805621, 6800055, 6801055, 6801056, 6801057, 6801289, 6801051, 6800763, 6801294, 6800765, 6800766, 6800767, 6800768, 6800769, 6800770, 6800795, 6801221, 6800807, 6800848, 6800847, 6800846, 6801220], 'cost': 131, 'storage': 1638366, 'count': 3028, 'checking_edges': 1454}, {'point': [6800898, 6800873], 'path': [6800898, 6805614, 6805617, 6800902, 6800903, 6800904, 6800905, 6800906, 6800864, 6800865, 6800866, 6805594, 6800867, 6800868, 6800869, 6801226, 6800870, 6800871, 6800872, 6800873], 'cost': 32, 'storage': 8373, 'count': 191, 'checking_edges': 100}, {'point': [6800257, 6800802], 'path': [6800257, 6800256, 6800226, 6800225, 6800224, 6802329, 6800223, 6800222, 6801050, 6801207, 6800136, 6800006, 6805261, 6801864, 6806334, 6802350, 6806333, 6806332, 6801909, 6805621, 6800055, 6801055, 6801056, 6801057, 6801289, 6801051, 6800763, 6801294, 6800765, 6800766, 6800767, 6800768, 6800769, 6800770, 6801216, 6800798, 6800799, 6800800, 6800801, 6801218, 6800802], 'cost': 72, 'storage': 1564366, 'count': 2956, 'checking_edges': 1422}, {'point': [6806305, 6805668], 'path': [6806305, 6806306, 6801172, 6805706, 6801149, 6801071, 6801070, 6801497, 6801496, 6801495, 6805668], 'cost': 18, 'storage': 38322, 'count': 468, 'checking_edges': 270}, {'point': [6800767, 6901827], 'path': [6800767, 6800766, 6800765, 6801294, 6800763, 6801051, 6801289, 6801057, 6806346, 6805661, 6901827], 'cost': 24, 'storage': 41193, 'count': 450, 'checking_edges': 251}, {'point': [6801836, 6800314], 'path': [6801836, 6801837, 6801174, 6801874, 6800016, 6800950, 6800949, 6806360, 6806359, 6800114, 6800322, 6801244, 6800309, 6800308, 6800307, 6900906, 6800314], 'cost': 32, 'storage': 463328, 'count': 1693, 'checking_edges': 828}, {'point': [6801898, 6801880], 'path': [6801898, 6801896, 6801042, 6801043, 6801044, 6800742, 6801288, 6806345, 6805532, 6801167, 6805808, 6801070, 6801071, 6801149, 6801875, 6800031, 6801816, 6801867, 6801865, 6801863, 6801906, 6801878, 6801880], 'cost': 41, 'storage': 209544, 'count': 1114, 'checking_edges': 551}, {'point': [6800114, 6801204], 'path': [6800114, 6806359, 6806360, 6800949, 6800950, 6800016, 6801817, 6801866, 6801864, 6805261, 6800006, 6800165, 6800216, 6800636, 6800214, 6800213, 6800212, 6801204], 'cost': 36, 'storage': 470011, 'count': 1668, 'checking_edges': 827}, {'point': [6800252, 6805667], 'path': [6800252, 6800253, 6800254, 6800255, 6801011, 6800636, 6800216, 6800165, 6800006, 6805261, 6801864, 6806334, 6802350, 6806333, 6806332, 6801909, 6805621, 6800055, 6801055, 6801056, 6801057, 6801289, 6805667], 'cost': 42, 'storage': 786016, 'count': 2140, 'checking_edges': 1052}, {'point': [6801917, 6806245], 'path': [6801917, 6801295, 6801819, 6801820, 6801821, 6801817, 6806274, 6800947, 6800955, 6806245], 'cost': 15, 'storage': 75990, 'count': 686, 'checking_edges': 343}, {'point': [6800124, 6800930], 'path': [6800124, 6802320, 6800125, 6800126, 6805486, 6801260, 6801211, 6806237, 6801888, 6801884, 6801883, 6801881, 6801879, 6801905, 6801862, 6805260, 6800041, 6800149, 6801848, 6800165, 6801799, 6801139, 6801849, 6801208, 6800381, 6800378, 6800377, 6800376, 6800375, 6800374, 6800373, 6800372, 6800331, 6800431, 6800430, 6800429, 6800428, 6800427, 6800426, 6800425, 6800943, 6800942, 6800941, 6800940, 6800939, 6800938, 6800937, 6800936, 6800935, 6800934, 6800933, 6800918, 6805588, 6800932, 6800931, 6800930], 'cost': 104, 'storage': 1832174, 'count': 3182, 'checking_edges': 1522}, {'point': [6800517, 6800114], 'path': [6800517, 6800553, 6801042, 6801043, 6801044, 6800742, 6801288, 6806345, 6805532, 6801167, 6805808, 6801070, 6801071, 6801165, 6801874, 6800016, 6800950, 6800949, 6806360, 6806359, 6800114], 'cost': 39, 'storage': 264964, 'count': 1255, 'checking_edges': 594}, {'point': [6800622, 6800961], 'path': [6800622, 6801017, 6801016, 6801015, 6801051, 6801289, 6801057, 6802367, 6800757, 6800965, 6800964, 6800963, 6800756, 6800755, 6806273, 6800962, 6800961], 'cost': 34, 'storage': 84099, 'count': 675, 'checking_edges': 348}, {'point': [6800923, 6800150], 'path': [6800923, 6800922, 6800921, 6801197, 6800920, 6800919, 6801196, 6800917, 6800916, 6800915, 6801195, 6805589, 6800914, 6800913, 6800912, 6801194, 6800911, 6800910, 6800424, 6800423, 6800422, 6800421, 6800420, 6800419, 6800418, 6800335, 6800348, 6800347, 6800346, 6800345, 6800344, 6800343, 6800342, 6800340, 6800153, 6800152, 6800151, 6800150], 'cost': 20, 'storage': 32824, 'count': 398, 'checking_edges': 210}, {'point': [6800463, 6800575], 'path': [6800463, 6800473, 6800472, 6800475, 6800474, 6800356, 6800357, 6800358, 6802337, 6800359, 6800624, 6800568, 6800567, 6800577, 6800576, 6800575], 'cost': 21, 'storage': 29556, 'count': 352, 'checking_edges': 189}, {'point': [6800034, 6800882], 'path': [6800034, 6801232, 6800033, 6800032, 6800948, 6806361, 6806358, 6801241, 6800319, 6800320, 6800312, 6800313, 6800314, 6800906, 6800905, 6801983, 6800890, 6801106, 6800889, 6800888, 6800887, 6800886, 6800885, 6800884, 6800883, 6800882], 'cost': 56, 'storage': 1390914, 'count': 2782, 'checking_edges': 1349}, {'point': [6800687, 6800733], 'path': [6800687, 6806327, 6800686, 6800685, 6800308, 6800309, 6801244, 6800322, 6800114, 6806359, 6806360, 6800949, 6800950, 6800961, 6800962, 6806273, 6800755, 6800756, 6800963, 6800964, 6800965, 6800757, 6802367, 6801057, 6801289, 6800741, 6801096, 6801114, 6801286, 6800065, 6806251, 6800733], 'cost': 63, 'storage': 576922, 'count': 1858, 'checking_edges': 905}, {'point': [6802354, 6801907], 'path': [6802354, 6802395, 6801288, 6806345, 6805532, 6801167, 6805808, 6801070, 6801071, 6801823, 6801295, 6801179, 6801907], 'cost': 22, 'storage': 115392, 'count': 793, 'checking_edges': 403}, {'point': [6800095, 6802368], 'path': [6800095, 6800094, 6800863, 6800322, 6800114, 6806359, 6806360, 6800949, 6800950, 6800016, 6801874, 6801174, 6801053, 6801054, 6802368], 'cost': 31, 'storage': 61377, 'count': 564, 'checking_edges': 320}, {'point': [6800157, 6801232], 'path': [6800157, 6800001, 6800045, 6800044, 6800043, 6800042, 6800149, 6800041, 6800040, 6800008, 6800038, 6800037, 6800036, 6800035, 6800034, 6801232], 'cost': 18, 'storage': 57736, 'count': 572, 'checking_edges': 296}, {'point': [6800464, 6805622], 'path': [6800464, 6800463, 6800473, 6800472, 6800475, 6800474, 6800356, 6800355, 6800354, 6800353, 6800352, 6800351, 6800337, 6800350, 6800336, 6800335, 6800348, 6800347, 6800346, 6800345, 6800344, 6800343, 6800342, 6800341, 6800154, 6800383, 6801208, 6801849, 6801139, 6801799, 6800165, 6800006, 6805261, 6801864, 6806334, 6802350, 6806333, 6806332, 6801909, 6800129, 6800054, 6805518, 6805520, 6805684, 6802404, 6802406, 6802408, 6805622], 'cost': 64, 'storage': 745970, 'count': 2087, 'checking_edges': 1022}, {'point': [6800591, 6806273], 'path': [6800591, 6800587, 6800014, 6800015, 6800949, 6800950, 6800961, 6800962, 6806273], 'cost': 9, 'storage': 1008, 'count': 65, 'checking_edges': 40}, {'point': [6800916, 6800879], 'path': [6800916, 6800915, 6801195, 6805589, 6800914, 6800913, 6800912, 6801194, 6800911, 6800910, 6800424, 6800423, 6800422, 6800421, 6800420, 6800419, 6800418, 6800335, 6800348, 6800347, 6800346, 6800345, 6800344, 6800343, 6800342, 6800340, 6800339, 6800338, 6800160, 6800159, 6800158, 6800157, 6800001, 6801485, 6800075, 6800076, 6800077, 6800078, 6801138, 6800107, 6801238, 6800108, 6800109, 6800315, 6806239, 6800974, 6800112, 6800113, 6800862, 6800319, 6800320, 6800312, 6800313, 6800314, 6800906, 6800905, 6801983, 6800890, 6801106, 6800889, 6800888, 6800887, 6800886, 6800885, 6800884, 6800883, 6800882, 6800881, 6800880, 6800879], 'cost': 94, 'storage': 1687438, 'count': 3080, 'checking_edges': 1471}, {'point': [6801828, 6800365], 'path': [6801828, 6801160, 6801052, 6805706, 6801149, 6801875, 6800031, 6801816, 6801867, 6801865, 6805260, 6800041, 6800149, 6801848, 6800165, 6801799, 6801139, 6801849, 6801208, 6800160, 6800338, 6800339, 6800340, 6800342, 6800343, 6800344, 6800345, 6800346, 6800347, 6800348, 6800335, 6800336, 6800350, 6800337, 6800351, 6800352, 6800353, 6800354, 6800355, 6800356, 6800474, 6800468, 6800365], 'cost': 59, 'storage': 1311400, 'count': 2702, 'checking_edges': 1320}, {'point': [6806335, 6800334], 'path': [6806335, 6802389, 6802391, 6802393, 6800325, 6800096, 6806240, 6800097, 6800098, 6800099, 6801239, 6800100, 6802317, 6800101, 6800327, 6800103, 6800105, 6800075, 6801485, 6800001, 6800157, 6800158, 6800159, 6800160, 6801208, 6800381, 6800378, 6800377, 6800376, 6800375, 6800374, 6800373, 6800372, 6800334], 'cost': 65, 'storage': 1214317, 'count': 2600, 'checking_edges': 1272}, {'point': [6800425, 6800210], 'path': [6800425, 6800426, 6800427, 6800428, 6800429, 6800430, 6800431, 6800331, 6800372, 6800373, 6800374, 6800375, 6800376, 6800377, 6800378, 6800381, 6801208, 6800162, 6800209, 6800210], 'cost': 52, 'storage': 26207, 'count': 346, 'checking_edges': 180}, {'point': [6800032, 6805644], 'path': [6800032, 6800033, 6801232, 6800034, 6800035, 6800036, 6800037, 6800038, 6800008, 6800040, 6801257, 6802339, 6800291, 6800290, 6800289, 6800288, 6800287, 6800286, 6800907, 6800260, 6802330, 6800261, 6805637, 6805638, 6800239, 6801803, 6805636, 6800240, 6805632, 6800489, 6801278, 6800491, 6800492, 6800497, 6800498, 6801840, 6800499, 6800500, 6801276, 6800501, 6800502, 6800503, 6800504, 6800505, 6800477, 6800478, 6800417, 6800361, 6800507, 6800508, 6800509, 6801230, 6805643, 6805644], 'cost': 60, 'storage': 1492091, 'count': 2877, 'checking_edges': 1389}, {'point': [6802355, 6805515], 'path': [6802355, 6805507, 6800758, 6802367, 6800757, 6800965, 6800964, 6800963, 6800756, 6800755, 6806273, 6800962, 6800961, 6800950, 6800016, 6801817, 6801866, 6801864, 6805261, 6800006, 6800136, 6800005, 6800004, 6800748, 6800002, 6800001, 6801982, 6805515], 'cost': 37, 'storage': 443254, 'count': 1644, 'checking_edges': 805}, {'point': [6800230, 6800974], 'path': [6800230, 6800229, 6800228, 6800227, 6800226, 6800225, 6800224, 6802329, 6800223, 6800222, 6801050, 6800146, 6800044, 6800045, 6801304, 6801485, 6800075, 6800076, 6800077, 6800078, 6801138, 6800107, 6801238, 6800108, 6800109, 6800315, 6806239, 6800974], 'cost': 56, 'storage': 546214, 'count': 1809, 'checking_edges': 891}, {'point': [6905698, 6801288], 'path': [6905698, 6805620, 6801166, 6801167, 6805532, 6806345, 6801288], 'cost': 16, 'storage': 20636, 'count': 352, 'checking_edges': 196}, {'point': [6802300, 6800410], 'path': [6802300, 6806348, 6800597, 6801108, 6800599, 6800600, 6800601, 6800602, 6800603, 6801808, 6800604, 6800590, 6800032, 6800033, 6801232, 6800034, 6800035, 6800036, 6800037, 6800038, 6800008, 6800040, 6801257, 6802339, 6800291, 6800290, 6800289, 6800288, 6800287, 6800286, 6800907, 6800260, 6802330, 6800261, 6805637, 6805638, 6800239, 6801803, 6805636, 6800240, 6805632, 6800489, 6801278, 6800491, 6800492, 6800497, 6800498, 6801840, 6800499, 6800500, 6801276, 6800501, 6800502, 6800503, 6800504, 6800505, 6800477, 6800478, 6800417, 6800416, 6800415, 6800414, 6800413, 6800412, 6805645, 6800410], 'cost': 72, 'storage': 1530370, 'count': 2892, 'checking_edges': 1410}, {'point': [6800888, 6800584], 'path': [6800888, 6800889, 6801106, 6800890, 6800891, 6800892, 6800893, 6800307, 6800308, 6800309, 6801244, 6800322, 6800114, 6806359, 6806360, 6800949, 6800950, 6800016, 6801874, 6801165, 6801071, 6801070, 6805808, 6801167, 6805532, 6806345, 6801288, 6801058, 6801095, 6801059, 6801287, 6800069, 6806271, 6802328, 6800585, 6800584], 'cost': 80, 'storage': 1178231, 'count': 2593, 'checking_edges': 1260}, {'point': [6800616, 6800515], 'path': [6800616, 6800617, 6800618, 6800619, 6800620, 6800517, 6800553, 6801042, 6801043, 6801044, 6800742, 6801288, 6806345, 6805532, 6801167, 6805808, 6801070, 6801071, 6801149, 6801875, 6800031, 6801816, 6801867, 6801865, 6805260, 6800040, 6801257, 6802339, 6800291, 6800290, 6800289, 6800288, 6800287, 6800286, 6800907, 6800260, 6802330, 6800261, 6805637, 6805638, 6800239, 6801803, 6805636, 6800240, 6805632, 6800489, 6801278, 6800491, 6800492, 6800497, 6800498, 6801840, 6800499, 6800500, 6801276, 6800501, 6800502, 6800503, 6800504, 6800505, 6800477, 6800478, 6800417, 6800515], 'cost': 90, 'storage': 1476445, 'count': 2888, 'checking_edges': 1386}, {'point': [6800847, 6800859], 'path': [6800847, 6800846, 6801220, 6800845, 6800844, 6800843, 6802343, 6800861, 6800859], 'cost': 21, 'storage': 2902, 'count': 108, 'checking_edges': 58}, {'point': [6800800, 6801153], 'path': [6800800, 6800799, 6800798, 6801216, 6800770, 6800769, 6800768, 6800767, 6800766, 6800765, 6801294, 6800763, 6801051, 6801289, 6801057, 6801056, 6801055, 6800055, 6801904, 6801293, 6801153], 'cost': 41, 'storage': 104441, 'count': 746, 'checking_edges': 397}, {'point': [6800941, 6800707], 'path': [6800941, 6800942, 6800943, 6800425, 6800426, 6800427, 6800428, 6800429, 6800430, 6800431, 6800331, 6800372, 6800373, 6800374, 6800375, 6800376, 6800377, 6800378, 6800381, 6801208, 6801849, 6801139, 6801799, 6800165, 6801848, 6800149, 6800041, 6800040, 6800008, 6800038, 6800037, 6800036, 6800035, 6801806, 6801010, 6801009, 6800990, 6801839, 6801007, 6801006, 6801005, 6801004, 6801003, 6801002, 6800703, 6805641, 6800997, 6800702, 6800706, 6800707], 'cost': 93, 'storage': 892533, 'count': 2272, 'checking_edges': 1115}, {'point': [6800313, 6800448], 'path': [6800313, 6800312, 6800320, 6800319, 6801241, 6806358, 6806361, 6800948, 6800032, 6800033, 6801232, 6800034, 6800035, 6800036, 6800037, 6800038, 6800008, 6800040, 6800041, 6800149, 6801848, 6800165, 6800216, 6800636, 6800214, 6800213, 6800212, 6801204, 6800441, 6801203, 6800442, 6800443, 6800444, 6801269, 6800445, 6800446, 6800447, 6800448], 'cost': 57, 'storage': 963062, 'count': 2341, 'checking_edges': 1146}, {'point': [6800417, 6800375], 'path': [6800417, 6800478, 6800477, 6800476, 6800475, 6800474, 6800356, 6800355, 6800354, 6800353, 6800352, 6800351, 6800337, 6800350, 6800336, 6800335, 6800348, 6800332, 6800331, 6800372, 6800373, 6800374, 6800375], 'cost': 33, 'storage': 118386, 'count': 767, 'checking_edges': 393}, {'point': [6805485, 6800165], 'path': [6805485, 6800130, 6801297, 6801908, 6801909, 6806332, 6806333, 6802350, 6806334, 6801864, 6805261, 6800006, 6800165], 'cost': 26, 'storage': 119402, 'count': 887, 'checking_edges': 436}, {'point': [6800657, 6800370], 'path': [6800657, 6800658, 6800659, 6800660, 6801176, 6800662, 6800663, 6800664, 6800665, 6800666, 6800667, 6801200, 6800669, 6800670, 6800671, 6800672, 6800673, 6800674, 6800675, 6800676, 6800677, 6800678, 6800679, 6800124, 6802320, 6800125, 6800126, 6805486, 6801260, 6801211, 6806237, 6801888, 6801884, 6801883, 6801881, 6801879, 6801905, 6801862, 6805260, 6800041, 6800149, 6801848, 6800165, 6801799, 6801139, 6801849, 6801208, 6800381, 6800378, 6800377, 6800376, 6800375, 6800374, 6800373, 6800372, 6800331, 6800330, 6800329, 6800370], 'cost': 135, 'storage': 1176153, 'count': 2607, 'checking_edges': 1258}, {'point': [6800994, 6801855], 'path': [6800994, 6800995, 6805630, 6800996, 6805648, 6805642, 6800704, 6805641, 6800703, 6801002, 6801003, 6801004, 6801005, 6801006, 6801007, 6801839, 6800990, 6801009, 6801010, 6801806, 6800035, 6800036, 6800037, 6800038, 6800008, 6800040, 6805260, 6801862, 6801860, 6802399, 6801859, 6801857, 6801871, 6801855], 'cost': 48, 'storage': 200384, 'count': 1077, 'checking_edges': 553}, {'point': [6800153, 6805634], 'path': [6800153, 6800340, 6800342, 6800343, 6800344, 6800345, 6800346, 6800347, 6800348, 6800335, 6800336, 6800350, 6800337, 6800351, 6800352, 6800353, 6800354, 6800355, 6800356, 6800357, 6800358, 6802337, 6800359, 6800624, 6800384, 6800469, 6800470, 6800479, 6805634], 'cost': 34, 'storage': 475502, 'count': 1669, 'checking_edges': 831}, {'point': [6801057, 6801492], 'path': [6801057, 6801056, 6801055, 6800055, 6805621, 6801903, 6801491, 6801492], 'cost': 11, 'storage': 27682, 'count': 390, 'checking_edges': 222}, {'point': [6802317, 6805684], 'path': [6802317, 6800101, 6800327, 6800103, 6800105, 6800075, 6801485, 6800001, 6800002, 6800748, 6800004, 6800005, 6800136, 6800006, 6805261, 6801864, 6806334, 6802350, 6806333, 6806332, 6801909, 6800129, 6800054, 6805518, 6805520, 6805684], 'cost': 41, 'storage': 418251, 'count': 1570, 'checking_edges': 791}, {'point': [6800155, 6805809], 'path': [6800155, 6800154, 6800341, 6800342, 6800343, 6800344, 6800345, 6800346, 6800347, 6800348, 6800335, 6800336, 6800350, 6800337, 6800351, 6800352, 6800353, 6800354, 6800355, 6800356, 6800474, 6800475, 6800476, 6800477, 6800478, 6800417, 6800361, 6800507, 6800508, 6800509, 6801230, 6805809], 'cost': 39, 'storage': 725772, 'count': 2048, 'checking_edges': 1002}, {'point': [6800584, 6800839], 'path': [6800584, 6800585, 6802328, 6806271, 6800069, 6801287, 6801059, 6801095, 6801058, 6801288, 6805665, 6801051, 6800763, 6801294, 6800765, 6800766, 6800767, 6800768, 6800769, 6800770, 6801216, 6800798, 6800837, 6800838, 6800839], 'cost': 62, 'storage': 409361, 'count': 1538, 'checking_edges': 753}, {'point': [6800893, 6801874], 'path': [6800893, 6800307, 6800308, 6800309, 6801244, 6800322, 6800114, 6806359, 6806360, 6800949, 6800950, 6800016, 6801874], 'cost': 22, 'storage': 8437, 'count': 193, 'checking_edges': 108}, {'point': [6806305, 6800502], 'path': [6806305, 6806306, 6801172, 6805706, 6801149, 6801875, 6800031, 6801816, 6801867, 6801865, 6805260, 6800040, 6801257, 6802339, 6800291, 6800290, 6800289, 6800288, 6800287, 6800286, 6800907, 6800260, 6802330, 6800261, 6805637, 6805638, 6800239, 6801803, 6805636, 6800240, 6805632, 6800489, 6801278, 6800491, 6800492, 6800497, 6800498, 6801840, 6800499, 6800500, 6801276, 6800501, 6800502], 'cost': 54, 'storage': 1132217, 'count': 2538, 'checking_edges': 1239}, {'point': [6800002, 6800394], 'path': [6800002, 6800001, 6800157, 6800158, 6800159, 6800160, 6800338, 6800339, 6800340, 6800342, 6800343, 6800344, 6800345, 6800346, 6800347, 6800348, 6800335, 6800336, 6800350, 6800337, 6800351, 6800352, 6800353, 6800354, 6800355, 6800356, 6800357, 6800358, 6802337, 6800359, 6800624, 6800384, 6800385, 6800386, 6800387, 6800388, 6800389, 6805646, 6800391, 6800392, 6806188, 6806189, 6801118, 6800393, 6800394], 'cost': 48, 'storage': 1151309, 'count': 2571, 'checking_edges': 1243}, {'point': [6801907, 6800467], 'path': [6801907, 6805669, 6802399, 6801860, 6801862, 6805260, 6800041, 6800149, 6801848, 6800165, 6801799, 6801139, 6801849, 6801208, 6800160, 6800338, 6800339, 6800340, 6800342, 6800343, 6800344, 6800345, 6800346, 6800347, 6800348, 6800335, 6800336, 6800350, 6800337, 6800351, 6800352, 6800353, 6800354, 6800355, 6800356, 6800474, 6800468, 6800467], 'cost': 50, 'storage': 1178714, 'count': 2596, 'checking_edges': 1261}, {'point': [6800496, 6800561], 'path': [6800496, 6800495, 6800494, 6800579, 6800485, 6801841, 6800484, 6800483, 6801275, 6800482, 6800481, 6800480, 6805634, 6800479, 6800470, 6800469, 6800384, 6800561], 'cost': 20, 'storage': 17343, 'count': 287, 'checking_edges': 153}, {'point': [6800845, 6800495], 'path': [6800845, 6801220, 6800846, 6800847, 6800848, 6800807, 6801221, 6800795, 6800770, 6800769, 6800768, 6800767, 6800766, 6800765, 6801294, 6800763, 6801051, 6801289, 6801057, 6801056, 6801055, 6800055, 6805621, 6801909, 6806332, 6806333, 6802350, 6802399, 6801860, 6801862, 6805260, 6800040, 6801257, 6802339, 6800291, 6800290, 6800289, 6800288, 6800287, 6800286, 6800907, 6800260, 6802330, 6800261, 6805637, 6805638, 6800239, 6801803, 6805636, 6800240, 6805632, 6800489, 6801278, 6800491, 6800492, 6800497, 6800496, 6800495], 'cost': 95, 'storage': 1154586, 'count': 2562, 'checking_edges': 1251}, {'point': [6800397, 6801885], 'path': [6800397, 6805701, 6800398, 6800399, 6801229, 6800400, 6805643, 6801230, 6800509, 6800508, 6800507, 6800361, 6800417, 6800478, 6800477, 6800476, 6800475, 6800474, 6800356, 6800355, 6800354, 6800353, 6800352, 6800351, 6800337, 6800350, 6800336, 6800335, 6800348, 6800347, 6800346, 6800345, 6800344, 6800343, 6800342, 6800341, 6800154, 6800383, 6801208, 6801849, 6801139, 6801799, 6800165, 6800006, 6805261, 6801863, 6801906, 6801878, 6801880, 6801882, 6801885], 'cost': 69, 'storage': 322867, 'count': 1348, 'checking_edges': 669}, {'point': [6801863, 6800693], 'path': [6801863, 6801865, 6801867, 6801816, 6800031, 6806274, 6800947, 6800948, 6806361, 6806358, 6801241, 6800319, 6800320, 6800312, 6800313, 6800314, 6805618, 6800694, 6802345, 6801225, 6800693], 'cost': 53, 'storage': 1350931, 'count': 2757, 'checking_edges': 1334}, {'point': [6800866, 6801860], 'path': [6800866, 6806321, 6806320, 6806319, 6800314, 6800313, 6800312, 6800320, 6800319, 6801241, 6806358, 6806361, 6800948, 6800947, 6806274, 6801817, 6801866, 6801864, 6801862, 6801860], 'cost': 36, 'storage': 72995, 'count': 607, 'checking_edges': 332}, {'point': [6800124, 6802315], 'path': [6800124, 6802320, 6800125, 6800126, 6805486, 6801260, 6801211, 6802324, 6801910, 6805518, 6805520, 6805684, 6802404, 6802406, 6802408, 6801062, 6801057, 6801289, 6802396, 6802353, 6801844, 6802310, 6802313, 6802315], 'cost': 40, 'storage': 317351, 'count': 1416, 'checking_edges': 690}, {'point': [6805486, 6800381], 'path': [6805486, 6801260, 6801211, 6806237, 6801888, 6801884, 6801883, 6801881, 6801879, 6801905, 6801862, 6805260, 6800041, 6800149, 6801848, 6800165, 6801799, 6801139, 6801849, 6801208, 6800381], 'cost': 34, 'storage': 339780, 'count': 1470, 'checking_edges': 724}, {'point': [6800457, 6801181], 'path': [6800457, 6800458, 6800459, 6800460, 6801126, 6801127, 6800375, 6800376, 6800377, 6800378, 6800381, 6801208, 6801849, 6801139, 6801799, 6800165, 6801848, 6800149, 6800041, 6805260, 6801862, 6801860, 6801858, 6802400, 6805670, 6801916, 6801181], 'cost': 39, 'storage': 170618, 'count': 972, 'checking_edges': 498}]\n"
     ]
    }
   ],
   "source": [
    "with open('Experiments_result/A_star.json', 'r') as jsonfile:\n",
    "    data = json.load(jsonfile)\n",
    "\n",
    "print(data)"
   ]
  },
  {
   "cell_type": "code",
   "execution_count": null,
   "id": "9b19bab0",
   "metadata": {},
   "outputs": [],
   "source": []
  }
 ],
 "metadata": {
  "kernelspec": {
   "display_name": "LLM",
   "language": "python",
   "name": "python3"
  },
  "language_info": {
   "codemirror_mode": {
    "name": "ipython",
    "version": 3
   },
   "file_extension": ".py",
   "mimetype": "text/x-python",
   "name": "python",
   "nbconvert_exporter": "python",
   "pygments_lexer": "ipython3",
   "version": "3.13.2"
  }
 },
 "nbformat": 4,
 "nbformat_minor": 5
}
