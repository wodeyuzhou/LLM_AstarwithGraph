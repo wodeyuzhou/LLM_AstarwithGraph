{
 "cells": [
  {
   "cell_type": "code",
   "execution_count": 12,
   "id": "9805fc8c",
   "metadata": {},
   "outputs": [],
   "source": [
    "import os\n",
    "import re\n",
    "import json\n",
    "import numpy as np\n",
    "import heapq\n",
    "from matplotlib import colors\n",
    "import matplotlib.pyplot as plt\n",
    "import torch\n",
    "import networkx as nx\n",
    "from networkx.readwrite import json_graph\n",
    "from graph_to_prompt import graph_to_prompt\n",
    "from transformers import AutoModelForCausalLM, AutoTokenizer\n",
    "from tqdm.auto import tqdm"
   ]
  },
  {
   "cell_type": "code",
   "execution_count": 2,
   "id": "7c23bd01",
   "metadata": {},
   "outputs": [],
   "source": [
    "def plot_graph(G, path = None, start = None, goal = None, checking_edges = None, weight_tag = True, llm_nodes = None):\n",
    "\n",
    "    pos = nx.spring_layout(G, seed=42)\n",
    "\n",
    "    plt.figure(figsize=(12, 8))\n",
    "\n",
    "    nx.draw_networkx_edges(G, pos, edge_color='gray', alpha=0.5, arrows=True,\n",
    "                        connectionstyle='arc3,rad=0.1')\n",
    "\n",
    "    nx.draw_networkx_nodes(G, pos, node_size=400, node_color='lightblue')\n",
    "    nx.draw_networkx_labels(G, pos, font_size=8, font_weight='bold')\n",
    "\n",
    "    if path is not None:\n",
    "        nx.draw_networkx_nodes([start], pos, node_size=400, node_color='yellow')\n",
    "        nx.draw_networkx_nodes([goal], pos, node_size=400, node_color='green')\n",
    "        path_edges = list(zip(path, path[1:]))\n",
    "\n",
    "        print(f\"A* 경로 : {path}\")\n",
    "        nx.draw_networkx_edges(G, pos, edgelist=checking_edges, edge_color='orange', alpha= 0.3, width=4,\n",
    "                            arrows=True, connectionstyle='arc3,rad=0.1')\n",
    "        nx.draw_networkx_edges(G, pos, edgelist=path_edges, edge_color='red', width=2,\n",
    "                            arrows=True, connectionstyle='arc3,rad=0.1')\n",
    "        if llm_nodes is None :\n",
    "            title = f\"A* Shortest Path from {start} to {goal}\"\n",
    "            \n",
    "        else:\n",
    "            title = f\"LLM A* Shortest Path from {start} to {goal} (llm nodes = {llm_nodes})\"\n",
    "            nx.draw_networkx_nodes(llm_nodes, pos, node_size=400, node_color='red')\n",
    "    else :\n",
    "        title = \"our graph\"\n",
    "        \n",
    "\n",
    "    \n",
    "    if weight_tag:\n",
    "        edge_labels = nx.get_edge_attributes(G, 'weight')\n",
    "        nx.draw_networkx_edge_labels(G, pos, edge_labels=edge_labels, font_color='green')\n",
    "\n",
    "    plt.title(title, fontsize=14)\n",
    "    plt.axis('off')\n",
    "    plt.tight_layout()\n",
    "    plt.savefig(os_path+title+\".png\",dpi=200)\n",
    "    plt.show()\n",
    "\n",
    "def plot_bus_graph(G, path=None, start=None, goal=None,\n",
    "                   checking_edges=None, weight_tag=True,\n",
    "                   route_tag=False, node_size=50,\n",
    "                   title=\"Bus Routes Graph\"):\n",
    "    \"\"\"\n",
    "    - path: A* 결과 (정류장ID list)\n",
    "    - start, goal: 노드(정류장ID)\n",
    "    - checking_edges: 탐색 중 확인한 엣지\n",
    "    - weight_tag: True면 edge weight 표시\n",
    "    - route_tag: True면 edge에 노선명(route_name) 표시\n",
    "    - node_size: 노드 크기 \n",
    "    \"\"\"\n",
    "\n",
    "    # (1) 노드 위치를 (x, y) 좌표로 지정\n",
    "    pos = {}\n",
    "    for n in G.nodes():\n",
    "        x_coord = G.nodes[n].get('x', 0.0)\n",
    "        y_coord = G.nodes[n].get('y', 0.0)\n",
    "        pos[n] = (x_coord, y_coord)\n",
    "\n",
    "    # (2) 그림 크기, 축 등\n",
    "    plt.figure(figsize=(20, 16))\n",
    "\n",
    "    # (3) 전체 엣지\n",
    "    nx.draw_networkx_edges(\n",
    "        G, pos,\n",
    "        edge_color='gray',\n",
    "        alpha=0.5,\n",
    "        arrows=True,\n",
    "        connectionstyle='arc3,rad=0.05'\n",
    "    )\n",
    "\n",
    "    # (4) path 강조\n",
    "    if path:\n",
    "        path_edges = list(zip(path, path[1:]))\n",
    "\n",
    "        # 탐색 중 확인한 엣지 (주황색)\n",
    "        if checking_edges:\n",
    "            nx.draw_networkx_edges(\n",
    "                G, pos,\n",
    "                edgelist=checking_edges,\n",
    "                edge_color='orange',\n",
    "                alpha=0.4,\n",
    "                width=3,\n",
    "                arrows=True,\n",
    "                connectionstyle='arc3,rad=0.05'\n",
    "            )\n",
    "        # 최종 경로 (빨간색)\n",
    "        nx.draw_networkx_edges(\n",
    "            G, pos,\n",
    "            edgelist=path_edges,\n",
    "            edge_color='red',\n",
    "            width=5,\n",
    "            arrows=True,\n",
    "            connectionstyle='arc3,rad=0.05'\n",
    "        )\n",
    "\n",
    "    # (5) 노드 표시\n",
    "    else:\n",
    "        labels = {node: str(node) for node in G.nodes()}\n",
    "        nx.draw_networkx_nodes(\n",
    "            G, pos,\n",
    "            node_size=node_size,\n",
    "            node_color='lightblue'\n",
    "        )\n",
    "\n",
    "    # (6) 엣지 라벨\n",
    "    if weight_tag:\n",
    "        edge_labels = {\n",
    "            (u, v): G[u][v].get('weight', '')\n",
    "            for u, v in G.edges()\n",
    "        }\n",
    "        nx.draw_networkx_edge_labels(\n",
    "            G, pos,\n",
    "            edge_labels=edge_labels,\n",
    "            font_color='green'\n",
    "        )\n",
    "    elif route_tag:\n",
    "        edge_labels = {\n",
    "            (u, v): G[u][v].get('route_name', '')\n",
    "            for u, v in G.edges()\n",
    "        }\n",
    "        nx.draw_networkx_edge_labels(\n",
    "            G, pos,\n",
    "            edge_labels=edge_labels,\n",
    "            font_color='blue'\n",
    "        )\n",
    "\n",
    "\n",
    "    if path and start and goal:\n",
    "        title = f\"{title}\\nStart: {start}, Goal: {goal}\"\n",
    "\n",
    "    plt.title(title, fontsize=13)\n",
    "    plt.axis('off')\n",
    "    plt.tight_layout()\n",
    "    # plt.savefig(os_path + title + '.png' , dpi=200)\n",
    "    # plt.show()"
   ]
  },
  {
   "cell_type": "code",
   "execution_count": 3,
   "id": "f92a62b5",
   "metadata": {},
   "outputs": [],
   "source": [
    "def get_nums_list(s):\n",
    "    nums_str = re.findall(r'\\d+', s)  \n",
    "    nums = list(map(int, nums_str))\n",
    "    return  nums"
   ]
  },
  {
   "cell_type": "code",
   "execution_count": 4,
   "id": "7249a916",
   "metadata": {},
   "outputs": [],
   "source": [
    "class Request_llm:\n",
    "    def __init__(self, model_name):\n",
    "        if model_name == 'llama':\n",
    "            self.max_new_tokens = 200\n",
    "            self.tokenizer = AutoTokenizer.from_pretrained(\"meta-llama/Llama-3.2-3B-Instruct\")\n",
    "            self.model = AutoModelForCausalLM.from_pretrained(\"meta-llama/Llama-3.2-3B-Instruct\", device_map=\"auto\",load_in_8bit=True)\n",
    "            #self.model.save_model(\"models/meta-llama/Llama-3.2-3B-Instruct\")\n",
    "        \n",
    "\n",
    "        self.model.config.pad_token_id = self.model.config.eos_token_id\n",
    "\n",
    "    def get_waypoints(self, j, start, goal, n_points):\n",
    "        prompt = graph_to_prompt(j, start, goal, n_points)\n",
    "        inputs = self.tokenizer(\n",
    "                    prompt,\n",
    "                    return_tensors=\"pt\",\n",
    "                    return_attention_mask=True\n",
    "                )\n",
    "        \n",
    "        input_ids = inputs[\"input_ids\"]\n",
    "        inputs[\"input_ids\"] = inputs[\"input_ids\"].to(self.model.device)\n",
    "        inputs[\"attention_mask\"] = inputs[\"attention_mask\"].to(self.model.device)\n",
    "\n",
    "        outputs = self.model.generate(\n",
    "                **inputs,\n",
    "                max_new_tokens = self.max_new_tokens\n",
    "            )\n",
    "        generated_token = outputs[:, input_ids.shape[-1] :]\n",
    "        result = self.tokenizer.batch_decode(generated_token, skip_special_tokens=True)[0]\n",
    "        waypoints = get_nums_list(result)\n",
    "        return waypoints\n"
   ]
  },
  {
   "cell_type": "code",
   "execution_count": 5,
   "id": "37888e09",
   "metadata": {},
   "outputs": [],
   "source": [
    "def astar(G, start, goal, heuristic):\n",
    "    count = 0\n",
    "    checking_edges = set()\n",
    "\n",
    "    open_set = []\n",
    "    heapq.heappush(open_set, (heuristic[start], 0, start))\n",
    "\n",
    "    came_from = {}\n",
    "    g_score = {node: float('inf') for node in G.nodes}\n",
    "    g_score[start] = 0\n",
    "\n",
    "    f_score = {node: float('inf') for node in G.nodes}\n",
    "    f_score[start] = heuristic[start]\n",
    "\n",
    "    visited = set()\n",
    "\n",
    "    while open_set:\n",
    "        _, current_g, current = heapq.heappop(open_set)\n",
    "\n",
    "        if current == goal:\n",
    "            path = [current]\n",
    "            while current in came_from:\n",
    "                current = came_from[current]\n",
    "                path.append(current)\n",
    "            return path[::-1], current_g, count, list(checking_edges)\n",
    "\n",
    "        visited.add(current)\n",
    "\n",
    "        for neighbor in G.successors(current):\n",
    "            count = count + 1\n",
    "            if neighbor in visited:\n",
    "                continue\n",
    "\n",
    "            tentative_g = g_score[current] + G[current][neighbor]['weight']\n",
    "            checking_edges.add((current, neighbor))\n",
    "            if tentative_g < g_score[neighbor]:\n",
    "                came_from[neighbor] = current\n",
    "                g_score[neighbor] = tentative_g\n",
    "                f_score[neighbor] = tentative_g + heuristic[neighbor]\n",
    "                heapq.heappush(open_set, (f_score[neighbor], tentative_g, neighbor))\n",
    "\n",
    "    return None, None, count, list(checking_edges)\n"
   ]
  },
  {
   "cell_type": "code",
   "execution_count": 6,
   "id": "bc18a2ae",
   "metadata": {},
   "outputs": [],
   "source": [
    "def llm_astar(G, start, goal, heuristic, llm, obstacles=None):\n",
    "\n",
    "    nodes = list(G.nodes)\n",
    "\n",
    "    llm = list(set(llm))\n",
    "    \n",
    "    T = []\n",
    "\n",
    "    for ts in llm:\n",
    "        if ts in nodes:\n",
    "            T.append(ts)\n",
    "\n",
    "    if obstacles is None:\n",
    "        obstacles = set()\n",
    "    else:\n",
    "        obstacles = set(obstacles)\n",
    "    print(llm)\n",
    "\n",
    "    T.reverse()\n",
    "\n",
    "    if not T or T[0] != start:\n",
    "        T.insert(0, start)\n",
    "    if T[-1] != goal:\n",
    "        T.append(goal)\n",
    "\n",
    "    T = [t for t in T if t not in obstacles]\n",
    "\n",
    "    t_idx = 1 if len(T) > 1 else 0\n",
    "    t = T[t_idx]\n",
    "\n",
    "    dist_to_t = nx.single_source_dijkstra_path_length(G, t, weight='weight')\n",
    "\n",
    "    count = 0\n",
    "    checking_edges = set()\n",
    "    came_from = {}\n",
    "    visited = set()\n",
    "\n",
    "    g_score = {n: float('inf') for n in G.nodes}\n",
    "    g_score[start] = 0\n",
    "\n",
    "    f_score = {n: float('inf') for n in G.nodes}\n",
    "    f_score[start] = g_score[start] + heuristic[start] + dist_to_t.get(start, float('inf'))\n",
    "\n",
    "    open_set = []\n",
    "    heapq.heappush(open_set, (f_score[start], g_score[start], start))\n",
    "\n",
    "\n",
    "    while open_set:\n",
    "        f_cur, g_cur, current = heapq.heappop(open_set)\n",
    "\n",
    "\n",
    "        if current == goal:\n",
    "            path = [current]\n",
    "            while current in came_from:\n",
    "                current = came_from[current]\n",
    "                path.append(current)\n",
    "            return path[::-1], g_cur, count, list(checking_edges)\n",
    "\n",
    "        visited.add(current)\n",
    "\n",
    "\n",
    "        if current == t and t_idx < len(T) - 1:\n",
    "            t_idx += 1\n",
    "            t = T[t_idx]\n",
    "            dist_to_t = nx.single_source_dijkstra_path_length(G, t, weight='weight')\n",
    "\n",
    "            new_open = []\n",
    "            for _, g_old, node in open_set:\n",
    "                new_f = g_score[node] + heuristic[node] + dist_to_t.get(node, float('inf'))\n",
    "                new_open.append((new_f, g_old, node))\n",
    "            open_set = new_open\n",
    "            heapq.heapify(open_set)\n",
    "\n",
    "\n",
    "        for nbr in G.successors(current):\n",
    "            count += 1\n",
    "            if nbr in visited or nbr in obstacles:\n",
    "                continue\n",
    "            w = G[current][nbr].get('weight', 1)\n",
    "            tentative_g = g_score[current] + w\n",
    "            checking_edges.add((current, nbr))\n",
    "\n",
    "            if tentative_g < g_score[nbr]:\n",
    "                came_from[nbr] = current\n",
    "                g_score[nbr] = tentative_g\n",
    "                f = tentative_g + heuristic[nbr] + dist_to_t.get(nbr, float('inf'))\n",
    "                f_score[nbr] = f\n",
    "                heapq.heappush(open_set, (f, tentative_g, nbr))\n",
    "\n",
    "\n",
    "    return None, None, count, list(checking_edges)\n"
   ]
  },
  {
   "cell_type": "code",
   "execution_count": 7,
   "id": "8cfb0fe1",
   "metadata": {},
   "outputs": [
    {
     "name": "stderr",
     "output_type": "stream",
     "text": [
      "/opt/conda/envs/LLM/lib/python3.13/site-packages/networkx/readwrite/json_graph/node_link.py:287: FutureWarning: \n",
      "The default value will be changed to `edges=\"edges\" in NetworkX 3.6.\n",
      "\n",
      "To make this warning go away, explicitly set the edges kwarg, e.g.:\n",
      "\n",
      "  nx.node_link_graph(data, edges=\"links\") to preserve current behavior, or\n",
      "  nx.node_link_graph(data, edges=\"edges\") for forward compatibility.\n",
      "  warnings.warn(\n"
     ]
    }
   ],
   "source": [
    "with open(\"graphs/sejong_bus.json\", \"r\") as json_file:\n",
    "    j = json.load(json_file)\n",
    "\n",
    "G = json_graph.node_link_graph(j)\n",
    "nodes = G.nodes\n",
    "edges = G.edges\n",
    "stations = list(G.nodes())\n"
   ]
  },
  {
   "cell_type": "code",
   "execution_count": 8,
   "id": "18bf74ba",
   "metadata": {},
   "outputs": [
    {
     "name": "stdout",
     "output_type": "stream",
     "text": [
      "Count       : 590\n",
      "Cost        : 22\n",
      "# of Checking edges: 322\n",
      "Path        : [6805517, 6805513, 6806243, 6806241, 6806245, 6800955, 6800947, 6806274, 6800031, 6801875, 6801149, 6805706, 6801172, 6806306]\n"
     ]
    }
   ],
   "source": [
    "# figure 2 \n",
    "start = stations[1588]            \n",
    "goal = stations[1780]\n",
    "\n",
    "heuristic_table = {station: (((G.nodes[goal]['x'] - G.nodes[station]['x']) ** 2 + (G.nodes[goal]['y'] - G.nodes[station]['y']) ** 2) ** 0.5) for station in nodes}\n",
    "\n",
    "path, cost, count, checking_edges = astar(G, start, goal, heuristic_table)\n",
    "print(\"Count       :\", count)\n",
    "print(\"Cost        :\", cost)\n",
    "print(\"# of Checking edges:\", len(checking_edges))\n",
    "print(\"Path        :\", path)"
   ]
  },
  {
   "cell_type": "code",
   "execution_count": 9,
   "id": "cf435506",
   "metadata": {},
   "outputs": [],
   "source": [
    "# table(random) A*\n",
    "experiments_samples_A_star = []\n",
    "\n",
    "while True:\n",
    "    start, goal = np.random.choice(nodes, 2)\n",
    "    start, goal = start.item(), goal.item()\n",
    "\n",
    "    heuristic_table = {station: (((G.nodes[goal]['x'] - G.nodes[station]['x']) ** 2 + (G.nodes[goal]['y'] - G.nodes[station]['y']) ** 2) ** 0.5) for station in nodes}\n",
    "\n",
    "    path, cost, count, checking_edges = astar(G, start, goal, heuristic_table)\n",
    "    if path is not None:\n",
    "        experiments_samples_A_star.append({'point' : (start, goal), 'path':path, 'cost':cost, 'count':count, 'checking_edges' : len(checking_edges)})\n",
    "    if len(experiments_samples_A_star)>150:\n",
    "        break"
   ]
  },
  {
   "cell_type": "code",
   "execution_count": 10,
   "id": "cdb5772f",
   "metadata": {},
   "outputs": [
    {
     "name": "stderr",
     "output_type": "stream",
     "text": [
      "The `load_in_4bit` and `load_in_8bit` arguments are deprecated and will be removed in the future versions. Please, pass a `BitsAndBytesConfig` object in `quantization_config` argument instead.\n"
     ]
    },
    {
     "data": {
      "application/vnd.jupyter.widget-view+json": {
       "model_id": "b6c453e700d04734ba02ee7e7e6f0a92",
       "version_major": 2,
       "version_minor": 0
      },
      "text/plain": [
       "Loading checkpoint shards:   0%|          | 0/2 [00:00<?, ?it/s]"
      ]
     },
     "metadata": {},
     "output_type": "display_data"
    }
   ],
   "source": [
    "llm_model = Request_llm('llama')"
   ]
  },
  {
   "cell_type": "code",
   "execution_count": 14,
   "id": "0d27ad58",
   "metadata": {},
   "outputs": [
    {
     "data": {
      "application/vnd.jupyter.widget-view+json": {
       "model_id": "b65cc229857f4c65ad959134f04b9a2f",
       "version_major": 2,
       "version_minor": 0
      },
      "text/plain": [
       "  0%|          | 0/10 [00:00<?, ?it/s]"
      ]
     },
     "metadata": {},
     "output_type": "display_data"
    },
    {
     "name": "stderr",
     "output_type": "stream",
     "text": [
      "Setting `pad_token_id` to `eos_token_id`:128001 for open-end generation.\n",
      "Setting `pad_token_id` to `eos_token_id`:128001 for open-end generation.\n"
     ]
    },
    {
     "name": "stdout",
     "output_type": "stream",
     "text": [
      "[6800004, 6800005, 6800006, 6800007, 6805647]\n",
      "Sample  0\n",
      "Count ratio       : 0.04422604422604426\n",
      "Cost ratio        : 0.0\n",
      "# of Checking edges ratio: 0.05653266331658291\n",
      "[6805632, 6805633, 6805629, 6805630, 6805631]\n",
      "Sample  1\n",
      "Count ratio       : 1.0184815184815186\n",
      "Cost ratio        : 0.0\n",
      "# of Checking edges ratio: 1.0122950819672132\n"
     ]
    },
    {
     "name": "stderr",
     "output_type": "stream",
     "text": [
      "Setting `pad_token_id` to `eos_token_id`:128001 for open-end generation.\n",
      "Setting `pad_token_id` to `eos_token_id`:128001 for open-end generation.\n"
     ]
    },
    {
     "name": "stdout",
     "output_type": "stream",
     "text": [
      "[6801864, 6801904, 6801905, 6801911, 6801886]\n",
      "Sample  2\n",
      "Count ratio       : 0.9695357833655706\n",
      "Cost ratio        : 0.0\n",
      "# of Checking edges ratio: 0.9475766567754699\n"
     ]
    },
    {
     "name": "stderr",
     "output_type": "stream",
     "text": [
      "Setting `pad_token_id` to `eos_token_id`:128001 for open-end generation.\n"
     ]
    },
    {
     "name": "stdout",
     "output_type": "stream",
     "text": [
      "[6800372, 6800373, 6800374, 6800375, 6800376]\n",
      "Sample  3\n",
      "Count ratio       : 0.05601527689369834\n",
      "Cost ratio        : 0.0\n",
      "# of Checking edges ratio: 0.07594936708860756\n"
     ]
    },
    {
     "name": "stderr",
     "output_type": "stream",
     "text": [
      "Setting `pad_token_id` to `eos_token_id`:128001 for open-end generation.\n"
     ]
    },
    {
     "name": "stdout",
     "output_type": "stream",
     "text": [
      "[70, 40, 10, 20, 30]\n",
      "Sample  4\n",
      "Count ratio       : 0.02819548872180455\n",
      "Cost ratio        : 0.0\n",
      "# of Checking edges ratio: 0.03881987577639756\n"
     ]
    },
    {
     "name": "stderr",
     "output_type": "stream",
     "text": [
      "Setting `pad_token_id` to `eos_token_id`:128001 for open-end generation.\n"
     ]
    },
    {
     "name": "stdout",
     "output_type": "stream",
     "text": [
      "[6800002, 6800005, 70, 6800007, 6800009]\n",
      "Sample  5\n",
      "Count ratio       : 1.3087027914614122\n",
      "Cost ratio        : 0.0\n",
      "# of Checking edges ratio: 1.253682487725041\n"
     ]
    },
    {
     "name": "stderr",
     "output_type": "stream",
     "text": [
      "Setting `pad_token_id` to `eos_token_id`:128001 for open-end generation.\n"
     ]
    },
    {
     "name": "stdout",
     "output_type": "stream",
     "text": [
      "[70, 40, 10, 20, 30]\n",
      "Sample  6\n",
      "Count ratio       : 0.06794682422451992\n",
      "Cost ratio        : 0.0\n",
      "# of Checking edges ratio: 0.09989909182643797\n"
     ]
    },
    {
     "name": "stderr",
     "output_type": "stream",
     "text": [
      "Setting `pad_token_id` to `eos_token_id`:128001 for open-end generation.\n"
     ]
    },
    {
     "name": "stdout",
     "output_type": "stream",
     "text": [
      "[40, 70]\n",
      "Sample  7\n",
      "Count ratio       : 0.06951286261631084\n",
      "Cost ratio        : 0.0\n",
      "# of Checking edges ratio: 0.0843507214206437\n"
     ]
    },
    {
     "name": "stderr",
     "output_type": "stream",
     "text": [
      "Setting `pad_token_id` to `eos_token_id`:128001 for open-end generation.\n"
     ]
    },
    {
     "name": "stdout",
     "output_type": "stream",
     "text": [
      "[6806240, 6806236, 6806237, 6806238, 6806239]\n",
      "Sample  8\n",
      "Count ratio       : 0.1502890173410405\n",
      "Cost ratio        : 0.0\n",
      "# of Checking edges ratio: 0.18196457326892113\n",
      "[70, 40, 10, 20, 30]\n",
      "Sample  9\n",
      "Count ratio       : 0.059082892416225774\n",
      "Cost ratio        : 0.0\n",
      "# of Checking edges ratio: 0.08318890814558055\n"
     ]
    }
   ],
   "source": [
    "experiments_samples_LLM_A_star = []\n",
    "\n",
    "for i, sample in (enumerate(tqdm(experiments_samples_A_star[:10]))):\n",
    "    start, goal = sample['point']\n",
    "\n",
    "    heuristic_table = {station: (((G.nodes[goal]['x'] - G.nodes[station]['x']) ** 2 + (G.nodes[goal]['y'] - G.nodes[station]['y']) ** 2) ** 0.5) for station in nodes}\n",
    "\n",
    "    waypoints = llm_model.get_waypoints(j, start, goal, 5)\n",
    "    \n",
    "    path, cost, count, checking_edges= llm_astar(G, start, goal, heuristic_table, waypoints)\n",
    "    if path is not None:\n",
    "        experiments_samples_LLM_A_star.append({'point' : (start, goal), 'path':path, 'cost':cost, 'count':count, 'checking_edges' : len(checking_edges)})\n",
    "        cost_ratio = 1 - cost/sample['cost']\n",
    "        count_ratio = 1 -count/sample['count']\n",
    "        checking_edges_ratio = 1 - len(checking_edges)/sample['checking_edges']\n",
    "        print(\"Sample \", i)\n",
    "        print(\"Count ratio       :\", 1 - count_ratio)\n",
    "        print(\"Cost ratio        :\", cost_ratio)\n",
    "        print(\"# of Checking edges ratio:\", 1 - checking_edges_ratio)"
   ]
  },
  {
   "cell_type": "code",
   "execution_count": null,
   "id": "24e47bb7",
   "metadata": {},
   "outputs": [],
   "source": [
    "# table(random) LLM-A*\n",
    "experiments_samples_LLM_A_star = []\n",
    "\n",
    "for sample in experiments_samples_A_star[:10]:\n",
    "    start, goal = sample['point']\n",
    "    waypoints = llm_model.get_waypoints(j, start, goal, n_points)\n",
    "    path, cost, count, checking_edges= llm_astar(G, start, goal, heuristic_table, waypoints)\n",
    "\n",
    "print(\"Count       :\", count)\n",
    "print(\"Cost        :\", cost)\n",
    "print(\"# of Checking edges:\", len(checking_edges))\n",
    "print(\"Path        :\", path)"
   ]
  }
 ],
 "metadata": {
  "kernelspec": {
   "display_name": "LLM",
   "language": "python",
   "name": "python3"
  },
  "language_info": {
   "codemirror_mode": {
    "name": "ipython",
    "version": 3
   },
   "file_extension": ".py",
   "mimetype": "text/x-python",
   "name": "python",
   "nbconvert_exporter": "python",
   "pygments_lexer": "ipython3",
   "version": "3.13.2"
  }
 },
 "nbformat": 4,
 "nbformat_minor": 5
}
